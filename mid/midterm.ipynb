{
 "cells": [
  {
   "cell_type": "markdown",
   "metadata": {},
   "source": [
    "### 3rd_ML100Marathon Midterm\n",
    "\n",
    "- 安隆公司曾是一間能源公司，2001 年破產前是世界上最大的電力、天然氣及電信公司之一。擁有上千億資產的公司於 2002 年竟然在短短幾周內宣告破產，才揭露其財報在多年以來均是造假的醜聞。在本資料集中你將會扮演偵探的角色，透過高層經理人內部的 mail 來往的情報以及薪資、股票等財務特徵，訓練出一個機器學習模型來幫忙你找到可疑的詐欺犯罪者是誰! 我們已經先幫你找到幾位犯罪者 (Person-of-Interest, poi) 與清白的員工，請利用這些訓練資料來訓練屬於自己的詐欺犯機器學習模型吧!\n",
    "\n",
    "### 特徵說明\n",
    "- 有關財務的特徵: ['salary', 'deferral_payments', 'total_payments', 'loan_advances', 'bonus', 'restricted_stock_deferred', 'deferred_income', 'total_stock_value', 'expenses', 'exercised_stock_options', 'other', 'long_term_incentive', 'restricted_stock', 'director_fees'] (單位皆為美元)。更詳細的特徵說明請參考 enron61702insiderpay.pdf 的最後一頁(請至Data頁面參考該PDF檔)\n",
    "- 有關 email 的特徵: ['to_messages', 'email_address', 'from_poi_to_this_person', 'from_messages', 'from_this_person_to_poi', 'shared_receipt_with_poi'] (除了 email_address，其餘皆為次數)\n",
    "\n",
    "- 嫌疑人的標記，也就是我們常用的 **y**。POI label: [‘poi’] (boolean, represented as integer)\n",
    "\n",
    "我們也建議你對既有特徵進行一些特徵工程如 rescale, transform ，也試著發揮想像力與創意，建立一些可以幫助找到嫌疑犯的特徵，增進模型的預測能力\n"
   ]
  },
  {
   "cell_type": "code",
   "execution_count": 252,
   "metadata": {},
   "outputs": [],
   "source": [
    "# Import 需要的套件\n",
    "import os\n",
    "import numpy as np \n",
    "import pandas as pd\n",
    "import matplotlib.pyplot as plt\n",
    "import seaborn as sns\n",
    "import warnings\n",
    "\n",
    "from sklearn.preprocessing import scale \n",
    "from sklearn.preprocessing import Imputer \n",
    "from IPython.display import display\n",
    "from sklearn.preprocessing import MinMaxScaler\n",
    "from sklearn.model_selection import cross_val_score\n",
    "from sklearn.linear_model import LinearRegression,LogisticRegression\n",
    "from sklearn.ensemble import GradientBoostingRegressor,RandomForestClassifier,RandomForestRegressor\n",
    "from sklearn.preprocessing import LabelEncoder\n",
    "from sklearn.model_selection import GridSearchCV\n",
    "\n",
    "%matplotlib inline"
   ]
  },
  {
   "cell_type": "markdown",
   "metadata": {},
   "source": [
    "### 讀取資料"
   ]
  },
  {
   "cell_type": "code",
   "execution_count": 263,
   "metadata": {},
   "outputs": [],
   "source": [
    "df_train = pd.read_csv(\"train_data.csv\")\n",
    "df_test = pd.read_csv(\"test_features.csv\")\n",
    "submit = pd.read_csv(\"sample_submission.csv\")"
   ]
  },
  {
   "cell_type": "code",
   "execution_count": 254,
   "metadata": {},
   "outputs": [
    {
     "name": "stdout",
     "output_type": "stream",
     "text": [
      "<class 'pandas.core.frame.DataFrame'>\n",
      "RangeIndex: 113 entries, 0 to 112\n",
      "Data columns (total 22 columns):\n",
      "name                         113 non-null object\n",
      "bonus                        61 non-null float64\n",
      "deferral_payments            28 non-null float64\n",
      "deferred_income              34 non-null float64\n",
      "director_fees                13 non-null float64\n",
      "email_address                83 non-null object\n",
      "exercised_stock_options      81 non-null float64\n",
      "expenses                     73 non-null float64\n",
      "from_messages                65 non-null float64\n",
      "from_poi_to_this_person      65 non-null float64\n",
      "from_this_person_to_poi      65 non-null float64\n",
      "loan_advances                2 non-null float64\n",
      "long_term_incentive          49 non-null float64\n",
      "other                        69 non-null float64\n",
      "poi                          113 non-null bool\n",
      "restricted_stock             82 non-null float64\n",
      "restricted_stock_deferred    10 non-null float64\n",
      "salary                       73 non-null float64\n",
      "shared_receipt_with_poi      65 non-null float64\n",
      "to_messages                  65 non-null float64\n",
      "total_payments               96 non-null float64\n",
      "total_stock_value            98 non-null float64\n",
      "dtypes: bool(1), float64(19), object(2)\n",
      "memory usage: 18.8+ KB\n",
      "None\n",
      "--------------------------------------------\n",
      "<class 'pandas.core.frame.DataFrame'>\n",
      "RangeIndex: 33 entries, 0 to 32\n",
      "Data columns (total 21 columns):\n",
      "name                         33 non-null object\n",
      "bonus                        21 non-null float64\n",
      "deferral_payments            11 non-null float64\n",
      "deferred_income              15 non-null float64\n",
      "director_fees                4 non-null float64\n",
      "email_address                28 non-null object\n",
      "exercised_stock_options      21 non-null float64\n",
      "expenses                     22 non-null float64\n",
      "from_messages                21 non-null float64\n",
      "from_poi_to_this_person      21 non-null float64\n",
      "from_this_person_to_poi      21 non-null float64\n",
      "loan_advances                2 non-null float64\n",
      "long_term_incentive          17 non-null float64\n",
      "other                        24 non-null float64\n",
      "restricted_stock             28 non-null float64\n",
      "restricted_stock_deferred    8 non-null float64\n",
      "salary                       22 non-null float64\n",
      "shared_receipt_with_poi      21 non-null float64\n",
      "to_messages                  21 non-null float64\n",
      "total_payments               29 non-null float64\n",
      "total_stock_value            28 non-null float64\n",
      "dtypes: float64(19), object(2)\n",
      "memory usage: 5.5+ KB\n",
      "None\n"
     ]
    }
   ],
   "source": [
    "print(df_train.info())\n",
    "print(\"--------------------------------------------\")\n",
    "print(df_test.info())"
   ]
  },
  {
   "cell_type": "markdown",
   "metadata": {},
   "source": [
    "### 前處理\n"
   ]
  },
  {
   "cell_type": "code",
   "execution_count": 264,
   "metadata": {},
   "outputs": [
    {
     "name": "stdout",
     "output_type": "stream",
     "text": [
      "<class 'pandas.core.frame.DataFrame'>\n",
      "RangeIndex: 146 entries, 0 to 145\n",
      "Data columns (total 20 columns):\n",
      "poi                          113 non-null object\n",
      "salary                       95 non-null float64\n",
      "bonus                        82 non-null float64\n",
      "long_term_incentive          66 non-null float64\n",
      "deferred_income              49 non-null float64\n",
      "deferral_payments            39 non-null float64\n",
      "loan_advances                4 non-null float64\n",
      "other                        93 non-null float64\n",
      "expenses                     95 non-null float64\n",
      "director_fees                17 non-null float64\n",
      "total_payments               125 non-null float64\n",
      "exercised_stock_options      102 non-null float64\n",
      "restricted_stock             110 non-null float64\n",
      "restricted_stock_deferred    18 non-null float64\n",
      "total_stock_value            126 non-null float64\n",
      "to_messages                  86 non-null float64\n",
      "from_messages                86 non-null float64\n",
      "from_poi_to_this_person      86 non-null float64\n",
      "from_this_person_to_poi      86 non-null float64\n",
      "shared_receipt_with_poi      86 non-null float64\n",
      "dtypes: float64(19), object(1)\n",
      "memory usage: 22.9+ KB\n"
     ]
    },
    {
     "name": "stderr",
     "output_type": "stream",
     "text": [
      "C:\\Users\\User\\Anaconda3\\lib\\site-packages\\pandas\\core\\frame.py:7138: FutureWarning: Sorting because non-concatenation axis is not aligned. A future version\n",
      "of pandas will change to not sort by default.\n",
      "\n",
      "To accept the future behavior, pass 'sort=False'.\n",
      "\n",
      "To retain the current behavior and silence the warning, pass 'sort=True'.\n",
      "\n",
      "  sort=sort,\n"
     ]
    }
   ],
   "source": [
    "df = df_train.append(df_test) \n",
    "df.reset_index(inplace=True, drop = True)\n",
    "df = df.replace('NaN', np.nan)\n",
    "######重新整理排列，並歸類類別\n",
    "payment_data = ['salary',\n",
    "                'bonus',\n",
    "                'long_term_incentive',\n",
    "                'deferred_income',\n",
    "                'deferral_payments',\n",
    "                'loan_advances',\n",
    "                'other',\n",
    "                'expenses',                \n",
    "                'director_fees', \n",
    "                'total_payments']\n",
    "stock_data = ['exercised_stock_options',\n",
    "              'restricted_stock',\n",
    "              'restricted_stock_deferred',\n",
    "              'total_stock_value']\n",
    "\n",
    "email_data = ['to_messages',\n",
    "              'from_messages',\n",
    "              'from_poi_to_this_person',\n",
    "              'from_this_person_to_poi',\n",
    "              'shared_receipt_with_poi']\n",
    "\n",
    "features_list =['poi'] + payment_data + stock_data + email_data\n",
    "#name_features_list = name + ['poi'] + payment_data + stock_data + email_data\n",
    "\n",
    "df = df[features_list]\n",
    "df.info()"
   ]
  },
  {
   "cell_type": "code",
   "execution_count": 220,
   "metadata": {},
   "outputs": [
    {
     "data": {
      "text/plain": [
       "array([True, False, nan], dtype=object)"
      ]
     },
     "execution_count": 220,
     "metadata": {},
     "output_type": "execute_result"
    }
   ],
   "source": [
    "df['poi'].unique()"
   ]
  },
  {
   "cell_type": "code",
   "execution_count": 221,
   "metadata": {},
   "outputs": [
    {
     "data": {
      "text/html": [
       "<div>\n",
       "<style scoped>\n",
       "    .dataframe tbody tr th:only-of-type {\n",
       "        vertical-align: middle;\n",
       "    }\n",
       "\n",
       "    .dataframe tbody tr th {\n",
       "        vertical-align: top;\n",
       "    }\n",
       "\n",
       "    .dataframe thead th {\n",
       "        text-align: right;\n",
       "    }\n",
       "</style>\n",
       "<table border=\"1\" class=\"dataframe\">\n",
       "  <thead>\n",
       "    <tr style=\"text-align: right;\">\n",
       "      <th></th>\n",
       "      <th>salary</th>\n",
       "      <th>bonus</th>\n",
       "      <th>long_term_incentive</th>\n",
       "      <th>deferred_income</th>\n",
       "      <th>deferral_payments</th>\n",
       "      <th>loan_advances</th>\n",
       "      <th>other</th>\n",
       "      <th>expenses</th>\n",
       "      <th>director_fees</th>\n",
       "      <th>total_payments</th>\n",
       "      <th>exercised_stock_options</th>\n",
       "      <th>restricted_stock</th>\n",
       "      <th>restricted_stock_deferred</th>\n",
       "      <th>total_stock_value</th>\n",
       "      <th>to_messages</th>\n",
       "      <th>from_messages</th>\n",
       "      <th>from_poi_to_this_person</th>\n",
       "      <th>from_this_person_to_poi</th>\n",
       "      <th>shared_receipt_with_poi</th>\n",
       "    </tr>\n",
       "  </thead>\n",
       "  <tbody>\n",
       "    <tr>\n",
       "      <th>count</th>\n",
       "      <td>1.060000e+02</td>\n",
       "      <td>9.400000e+01</td>\n",
       "      <td>8.200000e+01</td>\n",
       "      <td>6.700000e+01</td>\n",
       "      <td>6.100000e+01</td>\n",
       "      <td>3.500000e+01</td>\n",
       "      <td>1.020000e+02</td>\n",
       "      <td>1.060000e+02</td>\n",
       "      <td>4.600000e+01</td>\n",
       "      <td>1.290000e+02</td>\n",
       "      <td>1.140000e+02</td>\n",
       "      <td>1.150000e+02</td>\n",
       "      <td>4.300000e+01</td>\n",
       "      <td>1.310000e+02</td>\n",
       "      <td>98.000000</td>\n",
       "      <td>98.000000</td>\n",
       "      <td>98.000000</td>\n",
       "      <td>98.000000</td>\n",
       "      <td>98.000000</td>\n",
       "    </tr>\n",
       "    <tr>\n",
       "      <th>mean</th>\n",
       "      <td>5.038534e+05</td>\n",
       "      <td>2.071141e+06</td>\n",
       "      <td>1.183462e+06</td>\n",
       "      <td>-8.340788e+05</td>\n",
       "      <td>1.050234e+06</td>\n",
       "      <td>4.795714e+06</td>\n",
       "      <td>8.379710e+05</td>\n",
       "      <td>9.744573e+04</td>\n",
       "      <td>6.164528e+04</td>\n",
       "      <td>4.923960e+06</td>\n",
       "      <td>5.356838e+06</td>\n",
       "      <td>2.220796e+06</td>\n",
       "      <td>6.966023e+04</td>\n",
       "      <td>6.515409e+06</td>\n",
       "      <td>2042.705539</td>\n",
       "      <td>569.930029</td>\n",
       "      <td>64.931487</td>\n",
       "      <td>41.664723</td>\n",
       "      <td>1201.137026</td>\n",
       "    </tr>\n",
       "    <tr>\n",
       "      <th>std</th>\n",
       "      <td>2.575914e+06</td>\n",
       "      <td>1.002996e+07</td>\n",
       "      <td>5.355748e+06</td>\n",
       "      <td>3.470459e+06</td>\n",
       "      <td>4.184264e+06</td>\n",
       "      <td>1.947014e+07</td>\n",
       "      <td>4.387838e+06</td>\n",
       "      <td>5.059129e+05</td>\n",
       "      <td>2.073905e+05</td>\n",
       "      <td>2.861769e+07</td>\n",
       "      <td>2.942435e+07</td>\n",
       "      <td>1.224991e+07</td>\n",
       "      <td>2.674319e+06</td>\n",
       "      <td>3.822345e+07</td>\n",
       "      <td>2419.126910</td>\n",
       "      <td>1726.566643</td>\n",
       "      <td>81.421582</td>\n",
       "      <td>93.685948</td>\n",
       "      <td>1105.022610</td>\n",
       "    </tr>\n",
       "    <tr>\n",
       "      <th>min</th>\n",
       "      <td>0.000000e+00</td>\n",
       "      <td>0.000000e+00</td>\n",
       "      <td>0.000000e+00</td>\n",
       "      <td>-2.799289e+07</td>\n",
       "      <td>-1.025000e+05</td>\n",
       "      <td>0.000000e+00</td>\n",
       "      <td>0.000000e+00</td>\n",
       "      <td>0.000000e+00</td>\n",
       "      <td>0.000000e+00</td>\n",
       "      <td>0.000000e+00</td>\n",
       "      <td>0.000000e+00</td>\n",
       "      <td>-2.604490e+06</td>\n",
       "      <td>-7.576788e+06</td>\n",
       "      <td>-4.409300e+04</td>\n",
       "      <td>57.000000</td>\n",
       "      <td>12.000000</td>\n",
       "      <td>0.000000</td>\n",
       "      <td>0.000000</td>\n",
       "      <td>2.000000</td>\n",
       "    </tr>\n",
       "    <tr>\n",
       "      <th>25%</th>\n",
       "      <td>1.889435e+05</td>\n",
       "      <td>3.250000e+05</td>\n",
       "      <td>1.062500e+05</td>\n",
       "      <td>-3.503645e+05</td>\n",
       "      <td>0.000000e+00</td>\n",
       "      <td>0.000000e+00</td>\n",
       "      <td>8.020000e+02</td>\n",
       "      <td>1.238600e+04</td>\n",
       "      <td>0.000000e+00</td>\n",
       "      <td>3.199410e+05</td>\n",
       "      <td>3.505130e+05</td>\n",
       "      <td>2.086595e+05</td>\n",
       "      <td>-1.102915e+05</td>\n",
       "      <td>4.152485e+05</td>\n",
       "      <td>623.000000</td>\n",
       "      <td>26.250000</td>\n",
       "      <td>12.000000</td>\n",
       "      <td>1.000000</td>\n",
       "      <td>383.000000</td>\n",
       "    </tr>\n",
       "    <tr>\n",
       "      <th>50%</th>\n",
       "      <td>2.483460e+05</td>\n",
       "      <td>7.000000e+05</td>\n",
       "      <td>3.426745e+05</td>\n",
       "      <td>-7.500000e+04</td>\n",
       "      <td>7.312200e+04</td>\n",
       "      <td>0.000000e+00</td>\n",
       "      <td>1.215550e+04</td>\n",
       "      <td>3.786550e+04</td>\n",
       "      <td>0.000000e+00</td>\n",
       "      <td>1.092663e+06</td>\n",
       "      <td>9.132440e+05</td>\n",
       "      <td>4.410960e+05</td>\n",
       "      <td>0.000000e+00</td>\n",
       "      <td>1.038185e+06</td>\n",
       "      <td>1564.500000</td>\n",
       "      <td>50.500000</td>\n",
       "      <td>40.500000</td>\n",
       "      <td>13.500000</td>\n",
       "      <td>887.000000</td>\n",
       "    </tr>\n",
       "    <tr>\n",
       "      <th>75%</th>\n",
       "      <td>3.002298e+05</td>\n",
       "      <td>1.100000e+06</td>\n",
       "      <td>6.948620e+05</td>\n",
       "      <td>0.000000e+00</td>\n",
       "      <td>6.495840e+05</td>\n",
       "      <td>0.000000e+00</td>\n",
       "      <td>3.061778e+05</td>\n",
       "      <td>7.360350e+04</td>\n",
       "      <td>1.006335e+05</td>\n",
       "      <td>2.081796e+06</td>\n",
       "      <td>2.266645e+06</td>\n",
       "      <td>9.773805e+05</td>\n",
       "      <td>0.000000e+00</td>\n",
       "      <td>2.554413e+06</td>\n",
       "      <td>2449.750000</td>\n",
       "      <td>291.428571</td>\n",
       "      <td>65.190476</td>\n",
       "      <td>44.761905</td>\n",
       "      <td>1601.250000</td>\n",
       "    </tr>\n",
       "    <tr>\n",
       "      <th>max</th>\n",
       "      <td>2.670423e+07</td>\n",
       "      <td>9.734362e+07</td>\n",
       "      <td>4.852193e+07</td>\n",
       "      <td>0.000000e+00</td>\n",
       "      <td>3.208340e+07</td>\n",
       "      <td>8.392500e+07</td>\n",
       "      <td>4.266759e+07</td>\n",
       "      <td>5.235198e+06</td>\n",
       "      <td>1.398517e+06</td>\n",
       "      <td>3.098866e+08</td>\n",
       "      <td>3.117640e+08</td>\n",
       "      <td>1.303223e+08</td>\n",
       "      <td>1.545629e+07</td>\n",
       "      <td>4.345095e+08</td>\n",
       "      <td>15149.000000</td>\n",
       "      <td>14368.000000</td>\n",
       "      <td>528.000000</td>\n",
       "      <td>609.000000</td>\n",
       "      <td>5521.000000</td>\n",
       "    </tr>\n",
       "  </tbody>\n",
       "</table>\n",
       "</div>"
      ],
      "text/plain": [
       "             salary         bonus  long_term_incentive  deferred_income  \\\n",
       "count  1.060000e+02  9.400000e+01         8.200000e+01     6.700000e+01   \n",
       "mean   5.038534e+05  2.071141e+06         1.183462e+06    -8.340788e+05   \n",
       "std    2.575914e+06  1.002996e+07         5.355748e+06     3.470459e+06   \n",
       "min    0.000000e+00  0.000000e+00         0.000000e+00    -2.799289e+07   \n",
       "25%    1.889435e+05  3.250000e+05         1.062500e+05    -3.503645e+05   \n",
       "50%    2.483460e+05  7.000000e+05         3.426745e+05    -7.500000e+04   \n",
       "75%    3.002298e+05  1.100000e+06         6.948620e+05     0.000000e+00   \n",
       "max    2.670423e+07  9.734362e+07         4.852193e+07     0.000000e+00   \n",
       "\n",
       "       deferral_payments  loan_advances         other      expenses  \\\n",
       "count       6.100000e+01   3.500000e+01  1.020000e+02  1.060000e+02   \n",
       "mean        1.050234e+06   4.795714e+06  8.379710e+05  9.744573e+04   \n",
       "std         4.184264e+06   1.947014e+07  4.387838e+06  5.059129e+05   \n",
       "min        -1.025000e+05   0.000000e+00  0.000000e+00  0.000000e+00   \n",
       "25%         0.000000e+00   0.000000e+00  8.020000e+02  1.238600e+04   \n",
       "50%         7.312200e+04   0.000000e+00  1.215550e+04  3.786550e+04   \n",
       "75%         6.495840e+05   0.000000e+00  3.061778e+05  7.360350e+04   \n",
       "max         3.208340e+07   8.392500e+07  4.266759e+07  5.235198e+06   \n",
       "\n",
       "       director_fees  total_payments  exercised_stock_options  \\\n",
       "count   4.600000e+01    1.290000e+02             1.140000e+02   \n",
       "mean    6.164528e+04    4.923960e+06             5.356838e+06   \n",
       "std     2.073905e+05    2.861769e+07             2.942435e+07   \n",
       "min     0.000000e+00    0.000000e+00             0.000000e+00   \n",
       "25%     0.000000e+00    3.199410e+05             3.505130e+05   \n",
       "50%     0.000000e+00    1.092663e+06             9.132440e+05   \n",
       "75%     1.006335e+05    2.081796e+06             2.266645e+06   \n",
       "max     1.398517e+06    3.098866e+08             3.117640e+08   \n",
       "\n",
       "       restricted_stock  restricted_stock_deferred  total_stock_value  \\\n",
       "count      1.150000e+02               4.300000e+01       1.310000e+02   \n",
       "mean       2.220796e+06               6.966023e+04       6.515409e+06   \n",
       "std        1.224991e+07               2.674319e+06       3.822345e+07   \n",
       "min       -2.604490e+06              -7.576788e+06      -4.409300e+04   \n",
       "25%        2.086595e+05              -1.102915e+05       4.152485e+05   \n",
       "50%        4.410960e+05               0.000000e+00       1.038185e+06   \n",
       "75%        9.773805e+05               0.000000e+00       2.554413e+06   \n",
       "max        1.303223e+08               1.545629e+07       4.345095e+08   \n",
       "\n",
       "        to_messages  from_messages  from_poi_to_this_person  \\\n",
       "count     98.000000      98.000000                98.000000   \n",
       "mean    2042.705539     569.930029                64.931487   \n",
       "std     2419.126910    1726.566643                81.421582   \n",
       "min       57.000000      12.000000                 0.000000   \n",
       "25%      623.000000      26.250000                12.000000   \n",
       "50%     1564.500000      50.500000                40.500000   \n",
       "75%     2449.750000     291.428571                65.190476   \n",
       "max    15149.000000   14368.000000               528.000000   \n",
       "\n",
       "       from_this_person_to_poi  shared_receipt_with_poi  \n",
       "count                98.000000                98.000000  \n",
       "mean                 41.664723              1201.137026  \n",
       "std                  93.685948              1105.022610  \n",
       "min                   0.000000                 2.000000  \n",
       "25%                   1.000000               383.000000  \n",
       "50%                  13.500000               887.000000  \n",
       "75%                  44.761905              1601.250000  \n",
       "max                 609.000000              5521.000000  "
      ]
     },
     "execution_count": 221,
     "metadata": {},
     "output_type": "execute_result"
    }
   ],
   "source": [
    "df.describe()"
   ]
  },
  {
   "cell_type": "markdown",
   "metadata": {},
   "source": [
    "- 從上述分析結果發現共有146筆資料，其中113筆為Train，33筆為Test\n",
    "- 'total_payments'、'to_messages'有離群值不合理\n",
    "- 在財務數據方面，從官方文檔中得知，NaN的值表示0，而不是未知数量\n",
    "- 在電子郵件訊息方面NaN則為未知，to_messages'有NaN值的部分採平均填滿\n"
   ]
  },
  {
   "cell_type": "markdown",
   "metadata": {},
   "source": [
    "# 補上缺漏值"
   ]
  },
  {
   "cell_type": "code",
   "execution_count": 266,
   "metadata": {},
   "outputs": [
    {
     "data": {
      "text/html": [
       "<div>\n",
       "<style scoped>\n",
       "    .dataframe tbody tr th:only-of-type {\n",
       "        vertical-align: middle;\n",
       "    }\n",
       "\n",
       "    .dataframe tbody tr th {\n",
       "        vertical-align: top;\n",
       "    }\n",
       "\n",
       "    .dataframe thead th {\n",
       "        text-align: right;\n",
       "    }\n",
       "</style>\n",
       "<table border=\"1\" class=\"dataframe\">\n",
       "  <thead>\n",
       "    <tr style=\"text-align: right;\">\n",
       "      <th></th>\n",
       "      <th>Missing Ratio</th>\n",
       "    </tr>\n",
       "  </thead>\n",
       "  <tbody>\n",
       "    <tr>\n",
       "      <th>poi</th>\n",
       "      <td>22.60274</td>\n",
       "    </tr>\n",
       "  </tbody>\n",
       "</table>\n",
       "</div>"
      ],
      "text/plain": [
       "     Missing Ratio\n",
       "poi       22.60274"
      ]
     },
     "metadata": {},
     "output_type": "display_data"
    }
   ],
   "source": [
    "#檢查 DataFrame 空缺值的狀態\n",
    "def na_check(df):\n",
    "    df_na = (df.isnull().sum() / len(df)) * 100\n",
    "    df_na = df_na.drop(df_na[df_na == 0].index).sort_values(ascending=False)\n",
    "    missing_data = pd.DataFrame({'Missing Ratio' :df_na})\n",
    "    display(missing_data.head(10))\n",
    "na_check(df)"
   ]
  },
  {
   "cell_type": "code",
   "execution_count": 265,
   "metadata": {},
   "outputs": [
    {
     "name": "stderr",
     "output_type": "stream",
     "text": [
      "C:\\Users\\User\\Anaconda3\\lib\\site-packages\\sklearn\\utils\\deprecation.py:58: DeprecationWarning: Class Imputer is deprecated; Imputer was deprecated in version 0.20 and will be removed in 0.22. Import impute.SimpleImputer from sklearn instead.\n",
      "  warnings.warn(msg, category=DeprecationWarning)\n",
      "C:\\Users\\User\\Anaconda3\\lib\\site-packages\\ipykernel_launcher.py:11: FutureWarning: \n",
      ".ix is deprecated. Please use\n",
      ".loc for label based indexing or\n",
      ".iloc for positional indexing\n",
      "\n",
      "See the documentation here:\n",
      "http://pandas.pydata.org/pandas-docs/stable/user_guide/indexing.html#ix-indexer-is-deprecated\n",
      "  # This is added back by InteractiveShellApp.init_path()\n",
      "C:\\Users\\User\\Anaconda3\\lib\\site-packages\\pandas\\core\\indexing.py:822: FutureWarning: \n",
      ".ix is deprecated. Please use\n",
      ".loc for label based indexing or\n",
      ".iloc for positional indexing\n",
      "\n",
      "See the documentation here:\n",
      "http://pandas.pydata.org/pandas-docs/stable/user_guide/indexing.html#ix-indexer-is-deprecated\n",
      "  retval = getattr(retval, self.name)._getitem_axis(key, axis=i)\n",
      "C:\\Users\\User\\Anaconda3\\lib\\site-packages\\ipykernel_launcher.py:11: FutureWarning: \n",
      ".ix is deprecated. Please use\n",
      ".loc for label based indexing or\n",
      ".iloc for positional indexing\n",
      "\n",
      "See the documentation here:\n",
      "http://pandas.pydata.org/pandas-docs/stable/user_guide/indexing.html#ix-indexer-is-deprecated\n",
      "  # This is added back by InteractiveShellApp.init_path()\n",
      "C:\\Users\\User\\Anaconda3\\lib\\site-packages\\pandas\\core\\indexing.py:494: SettingWithCopyWarning: \n",
      "A value is trying to be set on a copy of a slice from a DataFrame.\n",
      "Try using .loc[row_indexer,col_indexer] = value instead\n",
      "\n",
      "See the caveats in the documentation: http://pandas.pydata.org/pandas-docs/stable/user_guide/indexing.html#returning-a-view-versus-a-copy\n",
      "  self.obj[item] = s\n",
      "C:\\Users\\User\\Anaconda3\\lib\\site-packages\\ipykernel_launcher.py:12: FutureWarning: \n",
      ".ix is deprecated. Please use\n",
      ".loc for label based indexing or\n",
      ".iloc for positional indexing\n",
      "\n",
      "See the documentation here:\n",
      "http://pandas.pydata.org/pandas-docs/stable/user_guide/indexing.html#ix-indexer-is-deprecated\n",
      "  if sys.path[0] == '':\n",
      "C:\\Users\\User\\Anaconda3\\lib\\site-packages\\pandas\\core\\indexing.py:822: FutureWarning: \n",
      ".ix is deprecated. Please use\n",
      ".loc for label based indexing or\n",
      ".iloc for positional indexing\n",
      "\n",
      "See the documentation here:\n",
      "http://pandas.pydata.org/pandas-docs/stable/user_guide/indexing.html#ix-indexer-is-deprecated\n",
      "  retval = getattr(retval, self.name)._getitem_axis(key, axis=i)\n",
      "C:\\Users\\User\\Anaconda3\\lib\\site-packages\\ipykernel_launcher.py:12: FutureWarning: \n",
      ".ix is deprecated. Please use\n",
      ".loc for label based indexing or\n",
      ".iloc for positional indexing\n",
      "\n",
      "See the documentation here:\n",
      "http://pandas.pydata.org/pandas-docs/stable/user_guide/indexing.html#ix-indexer-is-deprecated\n",
      "  if sys.path[0] == '':\n",
      "C:\\Users\\User\\Anaconda3\\lib\\site-packages\\pandas\\core\\indexing.py:494: SettingWithCopyWarning: \n",
      "A value is trying to be set on a copy of a slice from a DataFrame.\n",
      "Try using .loc[row_indexer,col_indexer] = value instead\n",
      "\n",
      "See the caveats in the documentation: http://pandas.pydata.org/pandas-docs/stable/user_guide/indexing.html#returning-a-view-versus-a-copy\n",
      "  self.obj[item] = s\n",
      "C:\\Users\\User\\Anaconda3\\lib\\site-packages\\ipykernel_launcher.py:13: FutureWarning: \n",
      ".ix is deprecated. Please use\n",
      ".loc for label based indexing or\n",
      ".iloc for positional indexing\n",
      "\n",
      "See the documentation here:\n",
      "http://pandas.pydata.org/pandas-docs/stable/user_guide/indexing.html#ix-indexer-is-deprecated\n",
      "  del sys.path[0]\n",
      "C:\\Users\\User\\Anaconda3\\lib\\site-packages\\pandas\\core\\indexing.py:822: FutureWarning: \n",
      ".ix is deprecated. Please use\n",
      ".loc for label based indexing or\n",
      ".iloc for positional indexing\n",
      "\n",
      "See the documentation here:\n",
      "http://pandas.pydata.org/pandas-docs/stable/user_guide/indexing.html#ix-indexer-is-deprecated\n",
      "  retval = getattr(retval, self.name)._getitem_axis(key, axis=i)\n",
      "C:\\Users\\User\\Anaconda3\\lib\\site-packages\\ipykernel_launcher.py:13: FutureWarning: \n",
      ".ix is deprecated. Please use\n",
      ".loc for label based indexing or\n",
      ".iloc for positional indexing\n",
      "\n",
      "See the documentation here:\n",
      "http://pandas.pydata.org/pandas-docs/stable/user_guide/indexing.html#ix-indexer-is-deprecated\n",
      "  del sys.path[0]\n",
      "C:\\Users\\User\\Anaconda3\\lib\\site-packages\\pandas\\core\\indexing.py:494: SettingWithCopyWarning: \n",
      "A value is trying to be set on a copy of a slice from a DataFrame.\n",
      "Try using .loc[row_indexer,col_indexer] = value instead\n",
      "\n",
      "See the caveats in the documentation: http://pandas.pydata.org/pandas-docs/stable/user_guide/indexing.html#returning-a-view-versus-a-copy\n",
      "  self.obj[item] = s\n"
     ]
    }
   ],
   "source": [
    "#在財務數據方面，從官方文檔中得知，NaN的值表示0，而不是未知数量\n",
    "df[payment_data] = df[payment_data].fillna(0)\n",
    "df[stock_data] = df[stock_data].fillna(0)\n",
    "#在email方面取該欄位平均後填滿\n",
    "imp = Imputer(missing_values=\"NaN\" , strategy= \"mean\" , axis = 0)\n",
    "#取出poi分類\n",
    "df_poi = df[df['poi'] == True]\n",
    "df_nonpoi = df[df['poi']==False]\n",
    "df_test = df[113:]\n",
    "#缺失值的处理方式是使用X中的均值（axis=0表示按列进行）代替Y中的缺失值\n",
    "df_poi.ix[:, email_data] = imp.fit_transform(df_poi.ix[:,email_data])\n",
    "df_nonpoi.ix[:, email_data] = imp.fit_transform(df_nonpoi.ix[:,email_data])\n",
    "df_test.ix[:, email_data] = imp.fit_transform(df_test.ix[:,email_data])\n",
    "\n",
    "df = df_poi.append(df_nonpoi)\n",
    "df = df.append(df_test)"
   ]
  },
  {
   "cell_type": "markdown",
   "metadata": {},
   "source": [
    "# 檢查離群值\n",
    "- 檢查異常值/離群值，將與所有支出的相關列加總與個人總支付額相比\n",
    "- 股票處理亦相同"
   ]
  },
  {
   "cell_type": "code",
   "execution_count": 267,
   "metadata": {},
   "outputs": [
    {
     "data": {
      "text/html": [
       "<div>\n",
       "<style scoped>\n",
       "    .dataframe tbody tr th:only-of-type {\n",
       "        vertical-align: middle;\n",
       "    }\n",
       "\n",
       "    .dataframe tbody tr th {\n",
       "        vertical-align: top;\n",
       "    }\n",
       "\n",
       "    .dataframe thead th {\n",
       "        text-align: right;\n",
       "    }\n",
       "</style>\n",
       "<table border=\"1\" class=\"dataframe\">\n",
       "  <thead>\n",
       "    <tr style=\"text-align: right;\">\n",
       "      <th></th>\n",
       "      <th>poi</th>\n",
       "      <th>salary</th>\n",
       "      <th>bonus</th>\n",
       "      <th>long_term_incentive</th>\n",
       "      <th>deferred_income</th>\n",
       "      <th>deferral_payments</th>\n",
       "      <th>loan_advances</th>\n",
       "      <th>other</th>\n",
       "      <th>expenses</th>\n",
       "      <th>director_fees</th>\n",
       "      <th>total_payments</th>\n",
       "      <th>exercised_stock_options</th>\n",
       "      <th>restricted_stock</th>\n",
       "      <th>restricted_stock_deferred</th>\n",
       "      <th>total_stock_value</th>\n",
       "      <th>to_messages</th>\n",
       "      <th>from_messages</th>\n",
       "      <th>from_poi_to_this_person</th>\n",
       "      <th>from_this_person_to_poi</th>\n",
       "      <th>shared_receipt_with_poi</th>\n",
       "    </tr>\n",
       "  </thead>\n",
       "  <tbody>\n",
       "    <tr>\n",
       "      <th>50</th>\n",
       "      <td>False</td>\n",
       "      <td>0.0</td>\n",
       "      <td>0.0</td>\n",
       "      <td>0.0</td>\n",
       "      <td>0.0</td>\n",
       "      <td>-102500.0</td>\n",
       "      <td>0.0</td>\n",
       "      <td>0.0</td>\n",
       "      <td>0.0</td>\n",
       "      <td>3285.0</td>\n",
       "      <td>102500.0</td>\n",
       "      <td>3285.0</td>\n",
       "      <td>0.0</td>\n",
       "      <td>44093.0</td>\n",
       "      <td>-44093.0</td>\n",
       "      <td>2181.839286</td>\n",
       "      <td>815.928571</td>\n",
       "      <td>60.125</td>\n",
       "      <td>43.517857</td>\n",
       "      <td>1055.5</td>\n",
       "    </tr>\n",
       "    <tr>\n",
       "      <th>139</th>\n",
       "      <td>NaN</td>\n",
       "      <td>0.0</td>\n",
       "      <td>0.0</td>\n",
       "      <td>0.0</td>\n",
       "      <td>0.0</td>\n",
       "      <td>0.0</td>\n",
       "      <td>0.0</td>\n",
       "      <td>137864.0</td>\n",
       "      <td>0.0</td>\n",
       "      <td>137864.0</td>\n",
       "      <td>15456290.0</td>\n",
       "      <td>2604490.0</td>\n",
       "      <td>-2604490.0</td>\n",
       "      <td>15456290.0</td>\n",
       "      <td>0.0</td>\n",
       "      <td>523.000000</td>\n",
       "      <td>29.000000</td>\n",
       "      <td>0.000</td>\n",
       "      <td>1.000000</td>\n",
       "      <td>463.0</td>\n",
       "    </tr>\n",
       "  </tbody>\n",
       "</table>\n",
       "</div>"
      ],
      "text/plain": [
       "       poi  salary  bonus  long_term_incentive  deferred_income  \\\n",
       "50   False     0.0    0.0                  0.0              0.0   \n",
       "139    NaN     0.0    0.0                  0.0              0.0   \n",
       "\n",
       "     deferral_payments  loan_advances     other  expenses  director_fees  \\\n",
       "50           -102500.0            0.0       0.0       0.0         3285.0   \n",
       "139                0.0            0.0  137864.0       0.0       137864.0   \n",
       "\n",
       "     total_payments  exercised_stock_options  restricted_stock  \\\n",
       "50         102500.0                   3285.0               0.0   \n",
       "139      15456290.0                2604490.0        -2604490.0   \n",
       "\n",
       "     restricted_stock_deferred  total_stock_value  to_messages  from_messages  \\\n",
       "50                     44093.0           -44093.0  2181.839286     815.928571   \n",
       "139                 15456290.0                0.0   523.000000      29.000000   \n",
       "\n",
       "     from_poi_to_this_person  from_this_person_to_poi  shared_receipt_with_poi  \n",
       "50                    60.125                43.517857                   1055.5  \n",
       "139                    0.000                 1.000000                    463.0  "
      ]
     },
     "execution_count": 267,
     "metadata": {},
     "output_type": "execute_result"
    }
   ],
   "source": [
    "error = (df[df[payment_data[:-1]].sum(axis = 'columns') != df['total_payments']])\n",
    "\n",
    "correct = (df[df[payment_data[:-1]].sum(axis = 'columns') == df['total_payments']]).head(5)\n",
    "\n",
    "\n",
    "error\n"
   ]
  },
  {
   "cell_type": "code",
   "execution_count": 204,
   "metadata": {},
   "outputs": [
    {
     "data": {
      "text/html": [
       "<div>\n",
       "<style scoped>\n",
       "    .dataframe tbody tr th:only-of-type {\n",
       "        vertical-align: middle;\n",
       "    }\n",
       "\n",
       "    .dataframe tbody tr th {\n",
       "        vertical-align: top;\n",
       "    }\n",
       "\n",
       "    .dataframe thead th {\n",
       "        text-align: right;\n",
       "    }\n",
       "</style>\n",
       "<table border=\"1\" class=\"dataframe\">\n",
       "  <thead>\n",
       "    <tr style=\"text-align: right;\">\n",
       "      <th></th>\n",
       "      <th>poi</th>\n",
       "      <th>salary</th>\n",
       "      <th>bonus</th>\n",
       "      <th>long_term_incentive</th>\n",
       "      <th>deferred_income</th>\n",
       "      <th>deferral_payments</th>\n",
       "      <th>loan_advances</th>\n",
       "      <th>other</th>\n",
       "      <th>expenses</th>\n",
       "      <th>director_fees</th>\n",
       "      <th>total_payments</th>\n",
       "      <th>exercised_stock_options</th>\n",
       "      <th>restricted_stock</th>\n",
       "      <th>restricted_stock_deferred</th>\n",
       "      <th>total_stock_value</th>\n",
       "      <th>to_messages</th>\n",
       "      <th>from_messages</th>\n",
       "      <th>from_poi_to_this_person</th>\n",
       "      <th>from_this_person_to_poi</th>\n",
       "      <th>shared_receipt_with_poi</th>\n",
       "    </tr>\n",
       "  </thead>\n",
       "  <tbody>\n",
       "    <tr>\n",
       "      <th>0</th>\n",
       "      <td>True</td>\n",
       "      <td>420636.0</td>\n",
       "      <td>1750000.0</td>\n",
       "      <td>1617011.0</td>\n",
       "      <td>-3504386.0</td>\n",
       "      <td>0.0</td>\n",
       "      <td>0.0</td>\n",
       "      <td>174839.0</td>\n",
       "      <td>46950.0</td>\n",
       "      <td>0.0</td>\n",
       "      <td>505050.0</td>\n",
       "      <td>19794175.0</td>\n",
       "      <td>2748364.0</td>\n",
       "      <td>0.0</td>\n",
       "      <td>22542539.0</td>\n",
       "      <td>905.000000</td>\n",
       "      <td>18.000000</td>\n",
       "      <td>42.000000</td>\n",
       "      <td>4.000000</td>\n",
       "      <td>864.0</td>\n",
       "    </tr>\n",
       "    <tr>\n",
       "      <th>1</th>\n",
       "      <td>True</td>\n",
       "      <td>1111258.0</td>\n",
       "      <td>5600000.0</td>\n",
       "      <td>1920000.0</td>\n",
       "      <td>0.0</td>\n",
       "      <td>0.0</td>\n",
       "      <td>0.0</td>\n",
       "      <td>22122.0</td>\n",
       "      <td>29336.0</td>\n",
       "      <td>0.0</td>\n",
       "      <td>8682716.0</td>\n",
       "      <td>19250000.0</td>\n",
       "      <td>6843672.0</td>\n",
       "      <td>0.0</td>\n",
       "      <td>26093672.0</td>\n",
       "      <td>3627.000000</td>\n",
       "      <td>108.000000</td>\n",
       "      <td>88.000000</td>\n",
       "      <td>30.000000</td>\n",
       "      <td>2042.0</td>\n",
       "    </tr>\n",
       "    <tr>\n",
       "      <th>2</th>\n",
       "      <td>True</td>\n",
       "      <td>211844.0</td>\n",
       "      <td>200000.0</td>\n",
       "      <td>0.0</td>\n",
       "      <td>-4167.0</td>\n",
       "      <td>0.0</td>\n",
       "      <td>0.0</td>\n",
       "      <td>1573324.0</td>\n",
       "      <td>22884.0</td>\n",
       "      <td>0.0</td>\n",
       "      <td>2003885.0</td>\n",
       "      <td>1624396.0</td>\n",
       "      <td>869220.0</td>\n",
       "      <td>0.0</td>\n",
       "      <td>2493616.0</td>\n",
       "      <td>225.000000</td>\n",
       "      <td>39.000000</td>\n",
       "      <td>13.000000</td>\n",
       "      <td>14.000000</td>\n",
       "      <td>91.0</td>\n",
       "    </tr>\n",
       "    <tr>\n",
       "      <th>3</th>\n",
       "      <td>True</td>\n",
       "      <td>224305.0</td>\n",
       "      <td>800000.0</td>\n",
       "      <td>602671.0</td>\n",
       "      <td>0.0</td>\n",
       "      <td>0.0</td>\n",
       "      <td>0.0</td>\n",
       "      <td>907502.0</td>\n",
       "      <td>118134.0</td>\n",
       "      <td>0.0</td>\n",
       "      <td>2652612.0</td>\n",
       "      <td>0.0</td>\n",
       "      <td>985032.0</td>\n",
       "      <td>0.0</td>\n",
       "      <td>985032.0</td>\n",
       "      <td>1995.666667</td>\n",
       "      <td>60.444444</td>\n",
       "      <td>93.888889</td>\n",
       "      <td>18.777778</td>\n",
       "      <td>1459.0</td>\n",
       "    </tr>\n",
       "    <tr>\n",
       "      <th>4</th>\n",
       "      <td>True</td>\n",
       "      <td>240189.0</td>\n",
       "      <td>1250000.0</td>\n",
       "      <td>375304.0</td>\n",
       "      <td>-262500.0</td>\n",
       "      <td>0.0</td>\n",
       "      <td>0.0</td>\n",
       "      <td>486.0</td>\n",
       "      <td>35818.0</td>\n",
       "      <td>0.0</td>\n",
       "      <td>1639297.0</td>\n",
       "      <td>0.0</td>\n",
       "      <td>126027.0</td>\n",
       "      <td>0.0</td>\n",
       "      <td>126027.0</td>\n",
       "      <td>2598.000000</td>\n",
       "      <td>144.000000</td>\n",
       "      <td>199.000000</td>\n",
       "      <td>25.000000</td>\n",
       "      <td>2188.0</td>\n",
       "    </tr>\n",
       "  </tbody>\n",
       "</table>\n",
       "</div>"
      ],
      "text/plain": [
       "    poi     salary      bonus  long_term_incentive  deferred_income  \\\n",
       "0  True   420636.0  1750000.0            1617011.0       -3504386.0   \n",
       "1  True  1111258.0  5600000.0            1920000.0              0.0   \n",
       "2  True   211844.0   200000.0                  0.0          -4167.0   \n",
       "3  True   224305.0   800000.0             602671.0              0.0   \n",
       "4  True   240189.0  1250000.0             375304.0        -262500.0   \n",
       "\n",
       "   deferral_payments  loan_advances      other  expenses  director_fees  \\\n",
       "0                0.0            0.0   174839.0   46950.0            0.0   \n",
       "1                0.0            0.0    22122.0   29336.0            0.0   \n",
       "2                0.0            0.0  1573324.0   22884.0            0.0   \n",
       "3                0.0            0.0   907502.0  118134.0            0.0   \n",
       "4                0.0            0.0      486.0   35818.0            0.0   \n",
       "\n",
       "   total_payments  exercised_stock_options  restricted_stock  \\\n",
       "0        505050.0               19794175.0         2748364.0   \n",
       "1       8682716.0               19250000.0         6843672.0   \n",
       "2       2003885.0                1624396.0          869220.0   \n",
       "3       2652612.0                      0.0          985032.0   \n",
       "4       1639297.0                      0.0          126027.0   \n",
       "\n",
       "   restricted_stock_deferred  total_stock_value  to_messages  from_messages  \\\n",
       "0                        0.0         22542539.0   905.000000      18.000000   \n",
       "1                        0.0         26093672.0  3627.000000     108.000000   \n",
       "2                        0.0          2493616.0   225.000000      39.000000   \n",
       "3                        0.0           985032.0  1995.666667      60.444444   \n",
       "4                        0.0           126027.0  2598.000000     144.000000   \n",
       "\n",
       "   from_poi_to_this_person  from_this_person_to_poi  shared_receipt_with_poi  \n",
       "0                42.000000                 4.000000                    864.0  \n",
       "1                88.000000                30.000000                   2042.0  \n",
       "2                13.000000                14.000000                     91.0  \n",
       "3                93.888889                18.777778                   1459.0  \n",
       "4               199.000000                25.000000                   2188.0  "
      ]
     },
     "execution_count": 204,
     "metadata": {},
     "output_type": "execute_result"
    }
   ],
   "source": [
    "correct"
   ]
  },
  {
   "cell_type": "code",
   "execution_count": 268,
   "metadata": {},
   "outputs": [
    {
     "name": "stderr",
     "output_type": "stream",
     "text": [
      "C:\\Users\\User\\Anaconda3\\lib\\site-packages\\ipykernel_launcher.py:2: FutureWarning: \n",
      ".ix is deprecated. Please use\n",
      ".loc for label based indexing or\n",
      ".iloc for positional indexing\n",
      "\n",
      "See the documentation here:\n",
      "http://pandas.pydata.org/pandas-docs/stable/user_guide/indexing.html#ix-indexer-is-deprecated\n",
      "  \n",
      "C:\\Users\\User\\Anaconda3\\lib\\site-packages\\pandas\\core\\indexing.py:961: FutureWarning: \n",
      ".ix is deprecated. Please use\n",
      ".loc for label based indexing or\n",
      ".iloc for positional indexing\n",
      "\n",
      "See the documentation here:\n",
      "http://pandas.pydata.org/pandas-docs/stable/user_guide/indexing.html#ix-indexer-is-deprecated\n",
      "  return getattr(section, self.name)[new_key]\n",
      "C:\\Users\\User\\Anaconda3\\lib\\site-packages\\ipykernel_launcher.py:7: FutureWarning: \n",
      ".ix is deprecated. Please use\n",
      ".loc for label based indexing or\n",
      ".iloc for positional indexing\n",
      "\n",
      "See the documentation here:\n",
      "http://pandas.pydata.org/pandas-docs/stable/user_guide/indexing.html#ix-indexer-is-deprecated\n",
      "  import sys\n",
      "C:\\Users\\User\\Anaconda3\\lib\\site-packages\\ipykernel_launcher.py:10: FutureWarning: \n",
      ".ix is deprecated. Please use\n",
      ".loc for label based indexing or\n",
      ".iloc for positional indexing\n",
      "\n",
      "See the documentation here:\n",
      "http://pandas.pydata.org/pandas-docs/stable/user_guide/indexing.html#ix-indexer-is-deprecated\n",
      "  # Remove the CWD from sys.path while we load stuff.\n",
      "C:\\Users\\User\\Anaconda3\\lib\\site-packages\\ipykernel_launcher.py:15: FutureWarning: \n",
      ".ix is deprecated. Please use\n",
      ".loc for label based indexing or\n",
      ".iloc for positional indexing\n",
      "\n",
      "See the documentation here:\n",
      "http://pandas.pydata.org/pandas-docs/stable/user_guide/indexing.html#ix-indexer-is-deprecated\n",
      "  from ipykernel import kernelapp as app\n"
     ]
    }
   ],
   "source": [
    "#修正第50筆資料\n",
    "index_50 = df.ix[50, 1:15].tolist()\n",
    "#刪除第一個欄位向左移動後，如財務數據所示\n",
    "index_50.pop(0)\n",
    "index_50.append(0)\n",
    "#重新補回該數據\n",
    "df.ix[50, 1:15] = index_50\n",
    "\n",
    "#修正第139筆資料\n",
    "index_139 = df.ix[139, 1:15].tolist()\n",
    "#刪除第一個欄位向右移動後，如財務數據所示\n",
    "index_139.pop(-1)\n",
    "index_139 = [0] + index_139\n",
    "#重新補回該數據\n",
    "df.ix[139, 1:15] = index_139\n"
   ]
  },
  {
   "cell_type": "code",
   "execution_count": 269,
   "metadata": {},
   "outputs": [
    {
     "data": {
      "text/plain": [
       "0"
      ]
     },
     "execution_count": 269,
     "metadata": {},
     "output_type": "execute_result"
    }
   ],
   "source": [
    "#確認財務數據\n",
    "len(df[df[payment_data[:-1]].sum(axis='columns') != df['total_payments']])"
   ]
  },
  {
   "cell_type": "code",
   "execution_count": 270,
   "metadata": {},
   "outputs": [
    {
     "data": {
      "text/plain": [
       "0"
      ]
     },
     "execution_count": 270,
     "metadata": {},
     "output_type": "execute_result"
    }
   ],
   "source": [
    "#確認股票數據\n",
    "len(df[df[stock_data[:-1]].sum(axis='columns') != df['total_stock_value']])"
   ]
  },
  {
   "cell_type": "markdown",
   "metadata": {},
   "source": [
    "- 由於數據集太小，異常值影響會非常大\n",
    "\n",
    "$$ low\\ outlier < first\\ quartile - 1.5\\ x\\ IQR $$  \n",
    "$$ high\\ outlier > third\\ quartile + 1.5\\ x\\ IQR $$ "
   ]
  },
  {
   "cell_type": "code",
   "execution_count": 271,
   "metadata": {},
   "outputs": [
    {
     "data": {
      "text/plain": [
       "133    14\n",
       "8      12\n",
       "119    12\n",
       "58      8\n",
       "113     8\n",
       "33      8\n",
       "87      7\n",
       "1       7\n",
       "47      7\n",
       "26      5\n",
       "68      5\n",
       "63      5\n",
       "dtype: int64"
      ]
     },
     "execution_count": 271,
     "metadata": {},
     "output_type": "execute_result"
    }
   ],
   "source": [
    "#保守的刪除異常值\n",
    "IQR = df.quantile(q=0.75) - df.quantile(q=0.25)\n",
    "\n",
    "first_quartile = df.quantile(q=0.25) \n",
    "third_quartile = df.quantile(q=0.75) \n",
    "\n",
    "outliers = df[(df>(third_quartile + 1.5*IQR) ) | (df<(first_quartile - 1.5*IQR) )].count(axis=1) \n",
    "outliers.sort_values(axis=0, ascending=False, inplace=True) \n",
    "outliers.head(12)"
   ]
  },
  {
   "cell_type": "code",
   "execution_count": 238,
   "metadata": {},
   "outputs": [
    {
     "data": {
      "text/plain": [
       "False    101\n",
       "True      13\n",
       "Name: poi, dtype: int64"
      ]
     },
     "execution_count": 238,
     "metadata": {},
     "output_type": "execute_result"
    }
   ],
   "source": [
    "#統計最後POI的人數\n",
    "df['poi'].value_counts()"
   ]
  },
  {
   "cell_type": "code",
   "execution_count": 239,
   "metadata": {},
   "outputs": [
    {
     "data": {
      "text/plain": [
       "33"
      ]
     },
     "execution_count": 239,
     "metadata": {},
     "output_type": "execute_result"
    }
   ],
   "source": [
    "df.isnull().sum().sum()"
   ]
  },
  {
   "cell_type": "markdown",
   "metadata": {},
   "source": [
    "- 然而雖然有許多的離群值，但可能表示某人正在透過大量的洗錢給同夥"
   ]
  },
  {
   "cell_type": "markdown",
   "metadata": {},
   "source": [
    "# 特徵工程\n",
    "### 透過mail建立欄位"
   ]
  },
  {
   "cell_type": "code",
   "execution_count": 272,
   "metadata": {},
   "outputs": [],
   "source": [
    "df['to_poi_ratio'] = df['from_poi_to_this_person'] / df['to_messages']\n",
    "df['from_poi_ratio'] = df['from_this_person_to_poi'] / df['from_messages']\n",
    "df['shared_poi_ratio'] = df['shared_receipt_with_poi'] / df['to_messages']"
   ]
  },
  {
   "cell_type": "code",
   "execution_count": 273,
   "metadata": {},
   "outputs": [],
   "source": [
    "features_list.append('to_poi_ratio') \n",
    "features_list.append('from_poi_ratio') \n",
    "features_list.append('shared_poi_ratio')\n",
    "name_features_list.append('to_poi_ratio')\n",
    "name_features_list.append('from_poi_ratio')\n",
    "name_features_list.append('shared_poi_ratio')"
   ]
  },
  {
   "cell_type": "markdown",
   "metadata": {},
   "source": [
    "### 透過財務數據建立欄位\n",
    "- 因為獎金可能包含犯罪者的利益分配"
   ]
  },
  {
   "cell_type": "code",
   "execution_count": 274,
   "metadata": {},
   "outputs": [],
   "source": [
    "df['bonus_to_salary'] = df['bonus'] / df['salary']\n",
    "df['bonus_to_total'] = df['bonus'] / df['total_payments']  "
   ]
  },
  {
   "cell_type": "code",
   "execution_count": 275,
   "metadata": {},
   "outputs": [],
   "source": [
    "features_list.append('bonus_to_salary')\n",
    "features_list.append('bonus_to_total')\n",
    "name_features_list.append('bonus_to_salary')\n",
    "name_features_list.append('bonus_to_total')"
   ]
  },
  {
   "cell_type": "code",
   "execution_count": 276,
   "metadata": {},
   "outputs": [
    {
     "name": "stderr",
     "output_type": "stream",
     "text": [
      "C:\\Users\\User\\Anaconda3\\lib\\site-packages\\ipykernel_launcher.py:3: FutureWarning: \n",
      ".ix is deprecated. Please use\n",
      ".loc for label based indexing or\n",
      ".iloc for positional indexing\n",
      "\n",
      "See the documentation here:\n",
      "http://pandas.pydata.org/pandas-docs/stable/user_guide/indexing.html#ix-indexer-is-deprecated\n",
      "  This is separate from the ipykernel package so we can avoid doing imports until\n",
      "C:\\Users\\User\\Anaconda3\\lib\\site-packages\\pandas\\core\\indexing.py:822: FutureWarning: \n",
      ".ix is deprecated. Please use\n",
      ".loc for label based indexing or\n",
      ".iloc for positional indexing\n",
      "\n",
      "See the documentation here:\n",
      "http://pandas.pydata.org/pandas-docs/stable/user_guide/indexing.html#ix-indexer-is-deprecated\n",
      "  retval = getattr(retval, self.name)._getitem_axis(key, axis=i)\n",
      "C:\\Users\\User\\Anaconda3\\lib\\site-packages\\ipykernel_launcher.py:3: FutureWarning: \n",
      ".ix is deprecated. Please use\n",
      ".loc for label based indexing or\n",
      ".iloc for positional indexing\n",
      "\n",
      "See the documentation here:\n",
      "http://pandas.pydata.org/pandas-docs/stable/user_guide/indexing.html#ix-indexer-is-deprecated\n",
      "  This is separate from the ipykernel package so we can avoid doing imports until\n"
     ]
    }
   ],
   "source": [
    "#建立副本，取整數\n",
    "scaled_df = df.copy()\n",
    "scaled_df.ix[:,1:] = scale(scaled_df.ix[:,1:])"
   ]
  },
  {
   "cell_type": "code",
   "execution_count": 277,
   "metadata": {},
   "outputs": [],
   "source": [
    "df2 = df[features_list]"
   ]
  },
  {
   "cell_type": "markdown",
   "metadata": {},
   "source": [
    "# 套入模型"
   ]
  },
  {
   "cell_type": "code",
   "execution_count": 278,
   "metadata": {},
   "outputs": [],
   "source": [
    "Train = df2[pd.notnull(df2['poi'])]\n",
    "Test = df2[~pd.notnull(df2['poi'])]"
   ]
  },
  {
   "cell_type": "code",
   "execution_count": 318,
   "metadata": {},
   "outputs": [],
   "source": []
  },
  {
   "cell_type": "code",
   "execution_count": 325,
   "metadata": {},
   "outputs": [],
   "source": [
    "Test2 = Test.drop(['poi'], axis = 1)"
   ]
  },
  {
   "cell_type": "code",
   "execution_count": 284,
   "metadata": {},
   "outputs": [
    {
     "name": "stderr",
     "output_type": "stream",
     "text": [
      "C:\\Users\\User\\Anaconda3\\lib\\site-packages\\ipykernel_launcher.py:1: SettingWithCopyWarning: \n",
      "A value is trying to be set on a copy of a slice from a DataFrame.\n",
      "Try using .loc[row_indexer,col_indexer] = value instead\n",
      "\n",
      "See the caveats in the documentation: http://pandas.pydata.org/pandas-docs/stable/user_guide/indexing.html#returning-a-view-versus-a-copy\n",
      "  \"\"\"Entry point for launching an IPython kernel.\n"
     ]
    }
   ],
   "source": [
    "Train['poi'] = Train['poi'].astype('category').cat.codes "
   ]
  },
  {
   "cell_type": "code",
   "execution_count": 322,
   "metadata": {},
   "outputs": [
    {
     "name": "stderr",
     "output_type": "stream",
     "text": [
      "C:\\Users\\User\\Anaconda3\\lib\\site-packages\\pandas\\core\\frame.py:4259: SettingWithCopyWarning: \n",
      "A value is trying to be set on a copy of a slice from a DataFrame\n",
      "\n",
      "See the caveats in the documentation: http://pandas.pydata.org/pandas-docs/stable/user_guide/indexing.html#returning-a-view-versus-a-copy\n",
      "  **kwargs\n"
     ]
    }
   ],
   "source": [
    "Train.fillna(value= 0, inplace=True) \n",
    "Test.fillna(value= 0, inplace=True) "
   ]
  },
  {
   "cell_type": "code",
   "execution_count": 300,
   "metadata": {},
   "outputs": [
    {
     "name": "stdout",
     "output_type": "stream",
     "text": [
      "0.9115\n"
     ]
    }
   ],
   "source": [
    "#隨機森林樹\n",
    "\n",
    "rf = RandomForestClassifier(criterion='entropy',\n",
    "                            n_estimators=50,\n",
    "                            min_samples_split=5,\n",
    "                            min_samples_leaf=2,\n",
    "                            oob_score=True, \n",
    "                            random_state=1,\n",
    "                            n_jobs=-1) \n",
    "\n",
    "rf.fit(Train.iloc[:, 1:], Train.iloc[:, 0])\n",
    "print(\"%.4f\" % rf.oob_score_)"
   ]
  },
  {
   "cell_type": "code",
   "execution_count": 291,
   "metadata": {},
   "outputs": [
    {
     "name": "stderr",
     "output_type": "stream",
     "text": [
      "C:\\Users\\User\\Anaconda3\\lib\\site-packages\\sklearn\\model_selection\\_search.py:841: DeprecationWarning: The default of the `iid` parameter will change from True to False in version 0.22 and will be removed in 0.24. This will change numeric results when test-set sizes are unequal.\n",
      "  DeprecationWarning)\n"
     ]
    }
   ],
   "source": [
    "# 設定要訓練的超參數組合\n",
    "param_grid = {\"criterion\" : [\"entropy\", \"gini\"],\n",
    "              \"max_depth\" : [4,6,8,10],\n",
    "              \"min_samples_split\" : [2,5,10],\n",
    "              \"min_samples_leaf\" : [2,5,10],\n",
    "              \"n_estimators\" : [20,50, 100], # 使用 n 顆樹\n",
    "              \"max_features\" : ['auto', 'sqrt'], # 如何選取 features\n",
    "              \"oob_score\" : [True]\n",
    "             }\n",
    "\n",
    "## 建立搜尋物件，放入模型及參數組合字典 (n_jobs=-1 會使用全部 cpu 平行運算)\n",
    "grid_search = GridSearchCV(estimator = RandomForestClassifier(random_state = 50),\n",
    "                  param_grid = param_grid,\n",
    "                  cv = 5,\n",
    "                  scoring = \"accuracy\")\n",
    "\n",
    "# 開始搜尋最佳參數\n",
    "grid_result = grid_search.fit(Train.iloc[:, 1:], Train.iloc[:, 0])\n",
    "\n",
    "\n"
   ]
  },
  {
   "cell_type": "code",
   "execution_count": 292,
   "metadata": {},
   "outputs": [
    {
     "name": "stdout",
     "output_type": "stream",
     "text": [
      "best_score  : 0.9292035398230089\n",
      "best_params : {'criterion': 'entropy', 'max_depth': 4, 'max_features': 'auto', 'min_samples_leaf': 2, 'min_samples_split': 5, 'n_estimators': 50, 'oob_score': True} \n",
      "\n"
     ]
    }
   ],
   "source": [
    "# 印出最佳結果與最佳參數 \n",
    "print(\"best_score  : %s\" % grid_result.best_score_) \n",
    "print(\"best_params : %s \\n\" % grid_result.best_params_)"
   ]
  },
  {
   "cell_type": "code",
   "execution_count": 293,
   "metadata": {},
   "outputs": [],
   "source": [
    "rf = grid_result.best_score_"
   ]
  },
  {
   "cell_type": "code",
   "execution_count": 294,
   "metadata": {},
   "outputs": [
    {
     "ename": "AttributeError",
     "evalue": "'numpy.float64' object has no attribute 'fit'",
     "output_type": "error",
     "traceback": [
      "\u001b[1;31m---------------------------------------------------------------------------\u001b[0m",
      "\u001b[1;31mAttributeError\u001b[0m                            Traceback (most recent call last)",
      "\u001b[1;32m<ipython-input-294-ed1c4be270ce>\u001b[0m in \u001b[0;36m<module>\u001b[1;34m\u001b[0m\n\u001b[0;32m      1\u001b[0m \u001b[1;31m# 訓練模型\u001b[0m\u001b[1;33m\u001b[0m\u001b[1;33m\u001b[0m\u001b[1;33m\u001b[0m\u001b[0m\n\u001b[1;32m----> 2\u001b[1;33m \u001b[0mrf\u001b[0m\u001b[1;33m.\u001b[0m\u001b[0mfit\u001b[0m\u001b[1;33m(\u001b[0m\u001b[0mTrain\u001b[0m\u001b[1;33m.\u001b[0m\u001b[0miloc\u001b[0m\u001b[1;33m[\u001b[0m\u001b[1;33m:\u001b[0m\u001b[1;33m,\u001b[0m \u001b[1;36m1\u001b[0m\u001b[1;33m:\u001b[0m\u001b[1;33m]\u001b[0m\u001b[1;33m,\u001b[0m \u001b[0mTrain\u001b[0m\u001b[1;33m.\u001b[0m\u001b[0miloc\u001b[0m\u001b[1;33m[\u001b[0m\u001b[1;33m:\u001b[0m\u001b[1;33m,\u001b[0m \u001b[1;36m0\u001b[0m\u001b[1;33m]\u001b[0m\u001b[1;33m)\u001b[0m\u001b[1;33m\u001b[0m\u001b[1;33m\u001b[0m\u001b[0m\n\u001b[0m",
      "\u001b[1;31mAttributeError\u001b[0m: 'numpy.float64' object has no attribute 'fit'"
     ]
    }
   ],
   "source": [
    "# 訓練模型 \n",
    "rf.fit(Train.iloc[:, 1:], Train.iloc[:, 0]) "
   ]
  },
  {
   "cell_type": "code",
   "execution_count": 326,
   "metadata": {},
   "outputs": [],
   "source": [
    "# 隨機森林預測檔 \n",
    "rf_res = rf.predict(Test2) \n",
    "submit['poi'] = rf_res \n",
    "submit['poi'] = submit['poi'].astype(int) \n",
    "submit.to_csv('mid_submit.csv', index = False)"
   ]
  }
 ],
 "metadata": {
  "kernelspec": {
   "display_name": "Python 3",
   "language": "python",
   "name": "python3"
  },
  "language_info": {
   "codemirror_mode": {
    "name": "ipython",
    "version": 3
   },
   "file_extension": ".py",
   "mimetype": "text/x-python",
   "name": "python",
   "nbconvert_exporter": "python",
   "pygments_lexer": "ipython3",
   "version": "3.7.1"
  }
 },
 "nbformat": 4,
 "nbformat_minor": 2
}
