{
 "cells": [
  {
   "cell_type": "markdown",
   "metadata": {},
   "source": [
    "## [作業重點]\n",
    "目前你應該已經要很清楚資料集中，資料的型態是什麼樣子囉！包含特徵 (features) 與標籤 (labels)。因此要記得未來不管什麼專案，必須要把資料清理成相同的格式，才能送進模型訓練。\n",
    "今天的作業開始踏入決策樹這個非常重要的模型，請務必確保你理解模型中每個超參數的意思，並試著調整看看，對最終預測結果的影響為何"
   ]
  },
  {
   "cell_type": "markdown",
   "metadata": {},
   "source": [
    "## 作業\n",
    "\n",
    "1. 試著調整 DecisionTreeClassifier(...) 中的參數，並觀察是否會改變結果？\n",
    "2. 改用其他資料集 (boston, wine)，並與回歸模型的結果進行比較"
   ]
  },
  {
   "cell_type": "markdown",
   "metadata": {},
   "source": [
    "## 建立模型四步驟\n",
    "\n",
    "在 Scikit-learn 中，建立一個機器學習的模型其實非常簡單，流程大略是以下四個步驟\n",
    "\n",
    "1. 讀進資料，並檢查資料的 shape (有多少 samples (rows), 多少 features (columns)，label 的型態是什麼？)\n",
    "    - 讀取資料的方法：\n",
    "        - **使用 pandas 讀取 .csv 檔：**pd.read_csv\n",
    "        - **使用 numpy 讀取 .txt 檔：**np.loadtxt \n",
    "        - **使用 Scikit-learn 內建的資料集：**sklearn.datasets.load_xxx\n",
    "    - **檢查資料數量：**data.shape (data should be np.array or dataframe)\n",
    "2. 將資料切為訓練 (train) / 測試 (test)\n",
    "    - train_test_split(data)\n",
    "3. 建立模型，將資料 fit 進模型開始訓練\n",
    "    - clf = DecisionTreeClassifier()\n",
    "    - clf.fit(x_train, y_train)\n",
    "4. 將測試資料 (features) 放進訓練好的模型中，得到 prediction，與測試資料的 label (y_test) 做評估\n",
    "    - clf.predict(x_test)\n",
    "    - accuracy_score(y_test, y_pred)\n",
    "    - f1_score(y_test, y_pred)"
   ]
  },
  {
   "cell_type": "code",
   "execution_count": 11,
   "metadata": {},
   "outputs": [],
   "source": [
    "from sklearn import datasets, metrics\n",
    "import pandas as pd\n",
    "\n",
    "# 如果是分類問題，請使用 DecisionTreeClassifier，若為回歸問題，請使用 DecisionTreeRegressor\n",
    "from sklearn.tree import DecisionTreeClassifier, DecisionTreeRegressor\n",
    "from sklearn.model_selection import train_test_split\n",
    "from sklearn.metrics import mean_squared_error, r2_score\n",
    "\n",
    "# 視覺化畫出決策樹的樹狀圖 Graphviz\n",
    "from sklearn.externals.six import StringIO  \n",
    "from IPython.display import Image  \n",
    "from sklearn.tree import export_graphviz"
   ]
  },
  {
   "cell_type": "markdown",
   "metadata": {},
   "source": [
    "# IRIS"
   ]
  },
  {
   "cell_type": "code",
   "execution_count": 22,
   "metadata": {},
   "outputs": [
    {
     "name": "stdout",
     "output_type": "stream",
     "text": [
      "best_score  : 0.9464285714285714\n",
      "best_params : {'criterion': 'entropy', 'max_depth': 4, 'min_samples_leaf': 2, 'min_samples_split': 2} \n",
      "\n",
      "Test accuracy : 0.9474\n",
      "Acuuracy:  0.9473684210526315\n"
     ]
    },
    {
     "name": "stderr",
     "output_type": "stream",
     "text": [
      "D:\\Anaconda\\lib\\site-packages\\sklearn\\model_selection\\_search.py:841: DeprecationWarning: The default of the `iid` parameter will change from True to False in version 0.22 and will be removed in 0.24. This will change numeric results when test-set sizes are unequal.\n",
      "  DeprecationWarning)\n"
     ]
    }
   ],
   "source": [
    "\n",
    "# 讀取鳶尾花資料集\n",
    "iris = datasets.load_iris()\n",
    "\n",
    "# 切分訓練集/測試集\n",
    "X_train, X_test, y_train, y_test = train_test_split(iris.data, iris.target, test_size=0.25, random_state=87)\n",
    "\n",
    "\n",
    "# Grid Search - to find best parameter set\n",
    "from sklearn.model_selection import GridSearchCV   \n",
    "clf = DecisionTreeClassifier(random_state = 87) # rfc = RandomForestClassifier(n_jobs=-1,max_features= 'sqrt' ,n_estimators=50, oob_score = True)\n",
    "# 列出參數組合\n",
    "param_grid = {\"criterion\" : [\"entropy\", \"gini\"],\n",
    "              \"max_depth\" : [2,4,6,8,10],\n",
    "              \"min_samples_split\" : [2,10],\n",
    "              \"min_samples_leaf\" : [2,5,10] \n",
    "             }\n",
    "gs = GridSearchCV(estimator = DecisionTreeClassifier(random_state = 50),\n",
    "                  param_grid = param_grid,\n",
    "                  cv = 5,\n",
    "                  scoring = \"accuracy\")\n",
    "gs.fit(X_train, y_train)\n",
    "print(\"best_score  : %s\" % gs.best_score_)\n",
    "print(\"best_params : %s \\n\" % gs.best_params_)\n",
    "\n",
    "# 建立由目前training set找出最佳參數組合的模型\n",
    "clf = gs.best_estimator_\n",
    "clf.fit(X_train, y_train)\n",
    "print(\"Test accuracy : %.4f\" % clf.score(X_test, y_test))\n",
    "\n",
    "# 預測測試集\n",
    "y_pred = clf.predict(X_test)\n",
    "\n",
    "acc = metrics.accuracy_score(y_test, y_pred)\n",
    "print(\"Acuuracy: \", acc)\n"
   ]
  },
  {
   "cell_type": "markdown",
   "metadata": {},
   "source": [
    "# boston"
   ]
  },
  {
   "cell_type": "code",
   "execution_count": 23,
   "metadata": {},
   "outputs": [
    {
     "name": "stdout",
     "output_type": "stream",
     "text": [
      "best_score  : -23.364109498680744\n",
      "best_params : {'criterion': 'mae', 'max_depth': 8, 'min_samples_leaf': 5, 'min_samples_split': 2} \n",
      "\n",
      "Test accuracy : 0.7096\n"
     ]
    },
    {
     "name": "stderr",
     "output_type": "stream",
     "text": [
      "D:\\Anaconda\\lib\\site-packages\\sklearn\\model_selection\\_search.py:841: DeprecationWarning: The default of the `iid` parameter will change from True to False in version 0.22 and will be removed in 0.24. This will change numeric results when test-set sizes are unequal.\n",
      "  DeprecationWarning)\n"
     ]
    }
   ],
   "source": [
    "# DecisionTreeRegressor\n",
    "\n",
    "# 讀取資料集\n",
    "boston = datasets.load_boston()\n",
    "\n",
    "# 切分訓練集/測試集\n",
    "X_train, X_test, y_train, y_test = train_test_split(boston.data, boston.target, test_size=0.25, random_state=87)\n",
    "\n",
    "\n",
    "# Grid Search - to find best parameter set\n",
    "from sklearn.model_selection import GridSearchCV   \n",
    "clf = DecisionTreeClassifier(random_state = 87) # rfc = RandomForestClassifier(n_jobs=-1,max_features= 'sqrt' ,n_estimators=50, oob_score = True)\n",
    "# 列出參數組合\n",
    "param_grid = {\"criterion\" : [\"mse\", \"mae\"],\n",
    "              \"max_depth\" : [2,4,6,8,10],\n",
    "              \"min_samples_split\" : [2,5,10],\n",
    "              \"min_samples_leaf\" : [2,5,10] \n",
    "             }\n",
    "gs = GridSearchCV(estimator = DecisionTreeRegressor(random_state = 87),\n",
    "                  param_grid = param_grid,\n",
    "                  cv = 5,\n",
    "                  scoring = \"neg_mean_squared_error\")\n",
    "gs.fit(X_train, y_train)\n",
    "print(\"best_score  : %s\" % gs.best_score_)\n",
    "print(\"best_params : %s \\n\" % gs.best_params_)\n",
    "\n",
    "# 建立由目前training set找出最佳參數組合的模型\n",
    "clf = gs.best_estimator_\n",
    "clf.fit(X_train, y_train)\n",
    "print(\"Test accuracy : %.4f\" % clf.score(X_test, y_test))"
   ]
  },
  {
   "cell_type": "markdown",
   "metadata": {},
   "source": [
    "# WINE"
   ]
  },
  {
   "cell_type": "code",
   "execution_count": 25,
   "metadata": {},
   "outputs": [
    {
     "name": "stdout",
     "output_type": "stream",
     "text": [
      "best_score  : 0.9398496240601504\n",
      "best_params : {'criterion': 'entropy', 'max_depth': 4, 'min_samples_leaf': 2, 'min_samples_split': 10} \n",
      "\n",
      "Test accuracy : 0.8667\n"
     ]
    },
    {
     "name": "stderr",
     "output_type": "stream",
     "text": [
      "D:\\Anaconda\\lib\\site-packages\\sklearn\\model_selection\\_search.py:841: DeprecationWarning: The default of the `iid` parameter will change from True to False in version 0.22 and will be removed in 0.24. This will change numeric results when test-set sizes are unequal.\n",
      "  DeprecationWarning)\n"
     ]
    }
   ],
   "source": [
    "# 讀取資料集\n",
    "wine = datasets.load_wine()\n",
    "\n",
    "# 切分訓練集/測試集\n",
    "X_train, X_test, y_train, y_test = train_test_split(wine.data, wine.target, test_size=0.25, random_state=42)\n",
    "\n",
    "\n",
    "# Grid Search - to find best parameter set\n",
    "from sklearn.model_selection import GridSearchCV   \n",
    "clf = DecisionTreeClassifier(random_state = 87) # rfc = RandomForestClassifier(n_jobs=-1,max_features= 'sqrt' ,n_estimators=50, oob_score = True)\n",
    "# 列出參數組合\n",
    "param_grid = {\"criterion\" : [\"entropy\", \"gini\"],\n",
    "              \"max_depth\" : [2,4,6,8,10],\n",
    "              \"min_samples_split\" : [2,5,10],\n",
    "              \"min_samples_leaf\" : [2,5,10] \n",
    "             }\n",
    "gs = GridSearchCV(estimator = DecisionTreeClassifier(random_state = 87),\n",
    "                  param_grid = param_grid,\n",
    "                  cv = 5,\n",
    "                  scoring = \"accuracy\")\n",
    "gs.fit(X_train, y_train)\n",
    "print(\"best_score  : %s\" % gs.best_score_)\n",
    "print(\"best_params : %s \\n\" % gs.best_params_)\n",
    "\n",
    "# 建立由目前training set找出最佳參數組合的模型\n",
    "clf = gs.best_estimator_\n",
    "clf.fit(X_train, y_train)\n",
    "print(\"Test accuracy : %.4f\" % clf.score(X_test, y_test))"
   ]
  }
 ],
 "metadata": {
  "kernelspec": {
   "display_name": "Python 3",
   "language": "python",
   "name": "python3"
  },
  "language_info": {
   "codemirror_mode": {
    "name": "ipython",
    "version": 3
   },
   "file_extension": ".py",
   "mimetype": "text/x-python",
   "name": "python",
   "nbconvert_exporter": "python",
   "pygments_lexer": "ipython3",
   "version": "3.7.1"
  }
 },
 "nbformat": 4,
 "nbformat_minor": 2
}
