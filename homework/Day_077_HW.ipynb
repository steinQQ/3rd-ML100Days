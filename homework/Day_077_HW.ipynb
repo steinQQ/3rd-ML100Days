{
 "cells": [
  {
   "cell_type": "markdown",
   "metadata": {},
   "source": [
    "## Work\n",
    "1. 請將 Epoch 加到 500 個，並觀察 learning curve 的走勢\n",
    "2. 請將 Optimizer 換成 SGD，並觀察 learning curve 的走勢"
   ]
  },
  {
   "cell_type": "code",
   "execution_count": 2,
   "metadata": {},
   "outputs": [],
   "source": [
    "import os\n",
    "import keras\n",
    "\n",
    "# 本作業可以不需使用 GPU, 將 GPU 設定為 \"無\" (若有 GPU 且想開啟，可設為 \"0\")\n",
    "os.environ[\"CUDA_VISIBLE_DEVICES\"] = \"\""
   ]
  },
  {
   "cell_type": "code",
   "execution_count": 3,
   "metadata": {},
   "outputs": [],
   "source": [
    "# 從 Keras 的內建功能中，取得 train 與 test 資料集\n",
    "train, test = keras.datasets.cifar10.load_data()"
   ]
  },
  {
   "cell_type": "code",
   "execution_count": 4,
   "metadata": {},
   "outputs": [],
   "source": [
    "# 將 X 與 Y 獨立放進變數\n",
    "x_train, y_train = train\n",
    "x_test, y_test = test\n",
    "# 資料前處理 - 標準化\n",
    "x_train = x_train / 255.\n",
    "x_test = x_test / 255.\n",
    "\n",
    "# 將資料從圖形 (RGB) 轉為向量 (Single Vector)\n",
    "x_train = x_train.reshape((len(x_train), -1))\n",
    "x_test = x_test.reshape((len(x_test), -1))\n",
    "\n",
    "# 將目標轉為 one-hot encoding\n",
    "y_train = keras.utils.to_categorical(y_train, num_classes=10)\n",
    "y_test = keras.utils.to_categorical(y_test, num_classes=10)"
   ]
  },
  {
   "cell_type": "code",
   "execution_count": 5,
   "metadata": {},
   "outputs": [],
   "source": [
    "def build_mlp():\n",
    "    \"\"\"Code Here\n",
    "    建立你的神經網路\n",
    "    \"\"\"\n",
    "    input_layer = keras.layers.Input([x_train.shape[-1]])\n",
    "    x = keras.layers.Dense(units=512, activation=\"relu\")(input_layer)\n",
    "    x = keras.layers.Dense(units=256, activation=\"relu\")(x)\n",
    "    x = keras.layers.Dense(units=128, activation=\"relu\")(x)\n",
    "    out = keras.layers.Dense(units=10, activation=\"softmax\")(x)\n",
    "    \n",
    "    model = keras.models.Model(inputs=[input_layer], outputs=[out])\n",
    "    return model"
   ]
  },
  {
   "cell_type": "code",
   "execution_count": 6,
   "metadata": {},
   "outputs": [
    {
     "name": "stdout",
     "output_type": "stream",
     "text": [
      "Model: \"model_1\"\n",
      "_________________________________________________________________\n",
      "Layer (type)                 Output Shape              Param #   \n",
      "=================================================================\n",
      "input_1 (InputLayer)         (None, 3072)              0         \n",
      "_________________________________________________________________\n",
      "dense_1 (Dense)              (None, 512)               1573376   \n",
      "_________________________________________________________________\n",
      "dense_2 (Dense)              (None, 256)               131328    \n",
      "_________________________________________________________________\n",
      "dense_3 (Dense)              (None, 128)               32896     \n",
      "_________________________________________________________________\n",
      "dense_4 (Dense)              (None, 10)                1290      \n",
      "=================================================================\n",
      "Total params: 1,738,890\n",
      "Trainable params: 1,738,890\n",
      "Non-trainable params: 0\n",
      "_________________________________________________________________\n"
     ]
    }
   ],
   "source": [
    "\"\"\"\n",
    "Compile 模型\n",
    "\"\"\"\n",
    "model = build_mlp()\n",
    "# 用 Keras 內建方法檢視模型各層參數量\n",
    "model.summary()\n",
    "\n",
    "optimizer = keras.optimizers.Adam(lr=0.001)\n",
    "model.compile(loss=\"categorical_crossentropy\", metrics=[\"accuracy\"], optimizer=optimizer)"
   ]
  },
  {
   "cell_type": "code",
   "execution_count": 7,
   "metadata": {
    "scrolled": true
   },
   "outputs": [
    {
     "name": "stdout",
     "output_type": "stream",
     "text": [
      "Train on 50000 samples, validate on 10000 samples\n",
      "Epoch 1/20\n",
      "50000/50000 [==============================] - 7s 143us/step - loss: 1.9546 - accuracy: 0.2946 - val_loss: 1.8232 - val_accuracy: 0.3337\n",
      "Epoch 2/20\n",
      "50000/50000 [==============================] - 7s 144us/step - loss: 1.7144 - accuracy: 0.3864 - val_loss: 1.6513 - val_accuracy: 0.3973\n",
      "Epoch 3/20\n",
      "50000/50000 [==============================] - 8s 151us/step - loss: 1.6263 - accuracy: 0.4175 - val_loss: 1.5758 - val_accuracy: 0.4452\n",
      "Epoch 4/20\n",
      "50000/50000 [==============================] - 8s 153us/step - loss: 1.5617 - accuracy: 0.4419 - val_loss: 1.5619 - val_accuracy: 0.4393\n",
      "Epoch 5/20\n",
      "50000/50000 [==============================] - 7s 145us/step - loss: 1.5100 - accuracy: 0.4605 - val_loss: 1.4891 - val_accuracy: 0.4748\n",
      "Epoch 6/20\n",
      "50000/50000 [==============================] - 7s 147us/step - loss: 1.4779 - accuracy: 0.4737 - val_loss: 1.5291 - val_accuracy: 0.4570\n",
      "Epoch 7/20\n",
      "50000/50000 [==============================] - 7s 145us/step - loss: 1.4404 - accuracy: 0.4887 - val_loss: 1.4492 - val_accuracy: 0.4846\n",
      "Epoch 8/20\n",
      "50000/50000 [==============================] - 7s 146us/step - loss: 1.4034 - accuracy: 0.4986 - val_loss: 1.4236 - val_accuracy: 0.4982\n",
      "Epoch 9/20\n",
      "50000/50000 [==============================] - 7s 148us/step - loss: 1.3803 - accuracy: 0.5113 - val_loss: 1.4351 - val_accuracy: 0.4955\n",
      "Epoch 10/20\n",
      "50000/50000 [==============================] - 7s 147us/step - loss: 1.3550 - accuracy: 0.5193 - val_loss: 1.4658 - val_accuracy: 0.4795\n",
      "Epoch 11/20\n",
      "50000/50000 [==============================] - 7s 147us/step - loss: 1.3281 - accuracy: 0.5257 - val_loss: 1.4186 - val_accuracy: 0.4943\n",
      "Epoch 12/20\n",
      "50000/50000 [==============================] - 7s 147us/step - loss: 1.3028 - accuracy: 0.5359 - val_loss: 1.4273 - val_accuracy: 0.4964\n",
      "Epoch 13/20\n",
      "50000/50000 [==============================] - 7s 147us/step - loss: 1.2731 - accuracy: 0.5471 - val_loss: 1.3625 - val_accuracy: 0.5171\n",
      "Epoch 14/20\n",
      "50000/50000 [==============================] - 7s 144us/step - loss: 1.2480 - accuracy: 0.5563 - val_loss: 1.3725 - val_accuracy: 0.5155\n",
      "Epoch 15/20\n",
      "50000/50000 [==============================] - 7s 146us/step - loss: 1.2259 - accuracy: 0.5649 - val_loss: 1.3822 - val_accuracy: 0.5100\n",
      "Epoch 16/20\n",
      "50000/50000 [==============================] - 7s 143us/step - loss: 1.2166 - accuracy: 0.5651 - val_loss: 1.3905 - val_accuracy: 0.5144\n",
      "Epoch 17/20\n",
      "50000/50000 [==============================] - 7s 146us/step - loss: 1.1958 - accuracy: 0.5737 - val_loss: 1.3987 - val_accuracy: 0.4997\n",
      "Epoch 18/20\n",
      "50000/50000 [==============================] - 7s 144us/step - loss: 1.1782 - accuracy: 0.5814 - val_loss: 1.3787 - val_accuracy: 0.5190\n",
      "Epoch 19/20\n",
      "50000/50000 [==============================] - 7s 146us/step - loss: 1.1529 - accuracy: 0.5894 - val_loss: 1.3873 - val_accuracy: 0.5183\n",
      "Epoch 20/20\n",
      "50000/50000 [==============================] - 7s 144us/step - loss: 1.1401 - accuracy: 0.5953 - val_loss: 1.3974 - val_accuracy: 0.5173\n"
     ]
    },
    {
     "data": {
      "text/plain": [
       "<keras.callbacks.callbacks.History at 0x24aed566128>"
      ]
     },
     "execution_count": 7,
     "metadata": {},
     "output_type": "execute_result"
    }
   ],
   "source": [
    "\"\"\"\n",
    "設定要訓練的 Epoch 數\n",
    "\"\"\"\n",
    "model.fit(x_train, y_train, \n",
    "          epochs=20, \n",
    "          batch_size=256, \n",
    "          validation_data=(x_test, y_test), \n",
    "          shuffle=True)"
   ]
  },
  {
   "cell_type": "code",
   "execution_count": 9,
   "metadata": {},
   "outputs": [
    {
     "data": {
      "image/png": "[encoded data removed]",
      "text/plain": [
       "<Figure size 432x288 with 1 Axes>"
      ]
     },
     "metadata": {
      "needs_background": "light"
     },
     "output_type": "display_data"
    },
    {
     "data": {
      "image/png": "[encoded data removed]",
      "text/plain": [
       "<Figure size 432x288 with 1 Axes>"
      ]
     },
     "metadata": {
      "needs_background": "light"
     },
     "output_type": "display_data"
    }
   ],
   "source": [
    "import matplotlib.pyplot as plt\n",
    "# 以視覺畫方式檢視訓練過程\n",
    "\n",
    "train_loss = model.history.history[\"loss\"]\n",
    "valid_loss = model.history.history[\"val_loss\"]\n",
    "\n",
    "train_acc = model.history.history[\"accuracy\"]\n",
    "valid_acc = model.history.history[\"val_accuracy\"]\n",
    "\n",
    "plt.plot(range(len(train_loss)), train_loss, label=\"train loss\")\n",
    "plt.plot(range(len(valid_loss)), valid_loss, label=\"valid loss\")\n",
    "plt.legend()\n",
    "plt.title(\"Loss\")\n",
    "plt.show()\n",
    "\n",
    "plt.plot(range(len(train_acc)), train_acc, label=\"train accuracy\")\n",
    "plt.plot(range(len(valid_acc)), valid_acc, label=\"valid accuracy\")\n",
    "plt.legend()\n",
    "plt.title(\"Accuracy\")\n",
    "plt.show()"
   ]
  }
 ],
 "metadata": {
  "kernelspec": {
   "display_name": "Python 3",
   "language": "python",
   "name": "python3"
  },
  "language_info": {
   "codemirror_mode": {
    "name": "ipython",
    "version": 3
   },
   "file_extension": ".py",
   "mimetype": "text/x-python",
   "name": "python",
   "nbconvert_exporter": "python",
   "pygments_lexer": "ipython3",
   "version": "3.7.1"
  }
 },
 "nbformat": 4,
 "nbformat_minor": 2
}
