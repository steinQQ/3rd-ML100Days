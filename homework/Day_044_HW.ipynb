{
 "cells": [
  {
   "cell_type": "markdown",
   "metadata": {},
   "source": [
    "## [作業重點]\n",
    "確保你了解隨機森林模型中每個超參數的意義，並觀察調整超參數對結果的影響"
   ]
  },
  {
   "cell_type": "markdown",
   "metadata": {},
   "source": [
    "## 作業\n",
    "\n",
    "1. 試著調整 RandomForestClassifier(...) 中的參數，並觀察是否會改變結果？\n",
    "2. 改用其他資料集 (boston, wine)，並與回歸模型與決策樹的結果進行比較"
   ]
  },
  {
   "cell_type": "markdown",
   "metadata": {},
   "source": [
    "# IRIS"
   ]
  },
  {
   "cell_type": "code",
   "execution_count": 1,
   "metadata": {},
   "outputs": [
    {
     "name": "stdout",
     "output_type": "stream",
     "text": [
      "best_score  : 0.9694656488549618\n",
      "best_params : {'criterion': 'entropy', 'max_depth': 4, 'max_features': 'auto', 'min_samples_leaf': 2, 'min_samples_split': 2, 'n_estimators': 20, 'oob_score': True} \n",
      "\n",
      "Acuuracy:  0.9473684210526315\n"
     ]
    },
    {
     "name": "stderr",
     "output_type": "stream",
     "text": [
      "D:\\Anaconda\\lib\\site-packages\\sklearn\\model_selection\\_search.py:841: DeprecationWarning: The default of the `iid` parameter will change from True to False in version 0.22 and will be removed in 0.24. This will change numeric results when test-set sizes are unequal.\n",
      "  DeprecationWarning)\n"
     ]
    }
   ],
   "source": [
    "from sklearn import datasets, metrics\n",
    "from sklearn.ensemble import RandomForestClassifier\n",
    "from sklearn.model_selection import train_test_split\n",
    "# 讀取iris資料集\n",
    "iris = datasets.load_iris()\n",
    "\n",
    "X = iris.data\n",
    "y = iris.target\n",
    "\n",
    "# 切分訓練集/測試集\n",
    "X_train, X_test, y_train, y_test = train_test_split(X, y, test_size = 0.125, random_state = 87)\n",
    "\n",
    "\n",
    "# Grid Search - to find best parameter set\n",
    "from sklearn.model_selection import GridSearchCV  \n",
    "# 建立模型\n",
    "clf = RandomForestClassifier(random_state = 78, n_jobs=1)\n",
    "\n",
    "\n",
    "# 列出參數組合\n",
    "param_grid = {\"criterion\" : [\"entropy\", \"gini\"],\n",
    "              \"max_depth\" : [4,6,8,10],\n",
    "              \"min_samples_split\" : [2,5,10],\n",
    "              \"min_samples_leaf\" : [2,5,10],\n",
    "              \"n_estimators\" : [20,50, 100], # 使用 n 顆樹\n",
    "              \"max_features\" : ['auto', 'sqrt'], # 如何選取 features\n",
    "              \"oob_score\" : [True]\n",
    "             }\n",
    "gs = GridSearchCV(estimator = RandomForestClassifier(random_state = 50),\n",
    "                  param_grid = param_grid,\n",
    "                  cv = 5,\n",
    "                  scoring = \"accuracy\")\n",
    "gs.fit(X_train, y_train)\n",
    "print(\"best_score  : %s\" % gs.best_score_)\n",
    "print(\"best_params : %s \\n\" % gs.best_params_)\n",
    "\n",
    "# 建立由目前training set找出最佳參數組合的模型\n",
    "clf = gs.best_estimator_\n",
    "\n",
    "# 訓練模型\n",
    "clf.fit(X_train, y_train)\n",
    "\n",
    "# 預測測試集\n",
    "y_pred = clf.predict(X_test)\n",
    "\n",
    "acc = metrics.accuracy_score(y_test, y_pred)\n",
    "print(\"Acuuracy: \", acc)"
   ]
  },
  {
   "cell_type": "markdown",
   "metadata": {},
   "source": [
    "# WINE"
   ]
  },
  {
   "cell_type": "code",
   "execution_count": 3,
   "metadata": {},
   "outputs": [
    {
     "name": "stdout",
     "output_type": "stream",
     "text": [
      "best_score  : 0.9870967741935484\n",
      "best_params : {'criterion': 'entropy', 'max_depth': 6, 'max_features': 'auto', 'min_samples_leaf': 2, 'min_samples_split': 10, 'n_estimators': 50, 'oob_score': True} \n",
      "\n",
      "Acuuracy:  1.0\n"
     ]
    },
    {
     "name": "stderr",
     "output_type": "stream",
     "text": [
      "D:\\Anaconda\\lib\\site-packages\\sklearn\\model_selection\\_search.py:841: DeprecationWarning: The default of the `iid` parameter will change from True to False in version 0.22 and will be removed in 0.24. This will change numeric results when test-set sizes are unequal.\n",
      "  DeprecationWarning)\n"
     ]
    }
   ],
   "source": [
    "from sklearn import datasets, metrics\n",
    "from sklearn.ensemble import RandomForestClassifier\n",
    "from sklearn.model_selection import train_test_split\n",
    "# 讀取wine資料集\n",
    "wine = datasets.load_wine()\n",
    "\n",
    "X = wine.data\n",
    "y = wine.target\n",
    "\n",
    "# 切分訓練集/測試集\n",
    "X_train, X_test, y_train, y_test = train_test_split(X, y, test_size = 0.125, random_state = 87)\n",
    "\n",
    "\n",
    "# Grid Search - to find best parameter set\n",
    "from sklearn.model_selection import GridSearchCV  \n",
    "# 建立模型\n",
    "clf = RandomForestClassifier(random_state = 78, n_jobs=1)\n",
    "\n",
    "\n",
    "# 列出參數組合\n",
    "param_grid = {\"criterion\" : [\"entropy\", \"gini\"],\n",
    "              \"max_depth\" : [4,6,8,10],\n",
    "              \"min_samples_split\" : [2,5,10],\n",
    "              \"min_samples_leaf\" : [2,5,10],\n",
    "              \"n_estimators\" : [20,50, 100], # 使用 n 顆樹\n",
    "              \"max_features\" : ['auto', 'sqrt'], # 如何選取 features\n",
    "              \"oob_score\" : [True]\n",
    "             }\n",
    "gs = GridSearchCV(estimator = RandomForestClassifier(random_state = 50),\n",
    "                  param_grid = param_grid,\n",
    "                  cv = 5,\n",
    "                  scoring = \"accuracy\")\n",
    "gs.fit(X_train, y_train)\n",
    "print(\"best_score  : %s\" % gs.best_score_)\n",
    "print(\"best_params : %s \\n\" % gs.best_params_)\n",
    "\n",
    "# 建立由目前training set找出最佳參數組合的模型\n",
    "clf = gs.best_estimator_\n",
    "\n",
    "# 訓練模型\n",
    "clf.fit(X_train, y_train)\n",
    "\n",
    "# 預測測試集\n",
    "y_pred = clf.predict(X_test)\n",
    "\n",
    "acc = metrics.accuracy_score(y_test, y_pred)\n",
    "print(\"Acuuracy: \", acc)"
   ]
  },
  {
   "cell_type": "code",
   "execution_count": 6,
   "metadata": {},
   "outputs": [
    {
     "name": "stdout",
     "output_type": "stream",
     "text": [
      "Mean squared error: 15.94\n",
      "Accuracy:  0.8411772380310012\n"
     ]
    }
   ],
   "source": [
    "from sklearn import datasets, metrics\n",
    "from sklearn.ensemble import RandomForestClassifier, RandomForestRegressor\n",
    "from sklearn.model_selection import train_test_split\n",
    "from sklearn.metrics import mean_squared_error, r2_score, accuracy_score\n",
    "# load_boston -> 回歸問題，使用 RandomForestRegressor\n",
    "boston = datasets.load_boston()\n",
    "x_train, x_test, y_train, y_test = train_test_split(boston.data, boston.target, test_size=0.25, random_state=4)\n",
    "clf = RandomForestRegressor(n_estimators=20, max_depth=5)\n",
    "clf.fit(x_train, y_train)\n",
    "y_pred = clf.predict(x_test)\n",
    "print(\"Mean squared error: %.2f\" % mean_squared_error(y_test, y_pred))\n",
    "print(\"Accuracy: \", clf.score(x_test, y_test))"
   ]
  },
  {
   "cell_type": "code",
   "execution_count": null,
   "metadata": {},
   "outputs": [],
   "source": []
  }
 ],
 "metadata": {
  "kernelspec": {
   "display_name": "Python 3",
   "language": "python",
   "name": "python3"
  },
  "language_info": {
   "codemirror_mode": {
    "name": "ipython",
    "version": 3
   },
   "file_extension": ".py",
   "mimetype": "text/x-python",
   "name": "python",
   "nbconvert_exporter": "python",
   "pygments_lexer": "ipython3",
   "version": "3.7.1"
  }
 },
 "nbformat": 4,
 "nbformat_minor": 2
}
