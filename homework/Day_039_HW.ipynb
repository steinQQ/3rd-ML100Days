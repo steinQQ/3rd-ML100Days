{
 "cells": [
  {
   "cell_type": "markdown",
   "metadata": {},
   "source": [
    "## [作業重點]\n",
    "清楚了解 L1, L2 的意義與差異為何，並了解 LASSO 與 Ridge 之間的差異與使用情境"
   ]
  },
  {
   "cell_type": "markdown",
   "metadata": {},
   "source": [
    "## 作業"
   ]
  },
  {
   "cell_type": "markdown",
   "metadata": {},
   "source": [
    "請閱讀相關文獻，並回答下列問題\n",
    "\n",
    "[脊回歸 (Ridge Regression)](https://blog.csdn.net/daunxx/article/details/51578787)\n",
    "[Linear, Ridge, Lasso Regression 本質區別](https://www.zhihu.com/question/38121173)\n",
    "\n",
    "1. LASSO 回歸可以被用來作為 Feature selection 的工具，請了解 LASSO 模型為什麼可用來作 Feature selection\n",
    "2. 當自變數 (X) 存在高度共線性時，Ridge Regression 可以處理這樣的問題嗎?\n"
   ]
  },
  {
   "cell_type": "markdown",
   "metadata": {},
   "source": [
    "1. LASSO 回歸可以被用來作為 Feature selection 的工具，請了解 LASSO 模型為什麼可用來作 Feature selection\n",
    "\n",
    "Lasso是Ridge模型外的另一個選擇，並在目標函式的限制式有所調整。\n",
    "Lasso模型在目標函式中所使用的是一階懲罰式(L1 Penalty)λ∑pj=1|βj|。\n",
    "Lasso模型則真的會將係數推進成0，Lasso模型不僅能使用正規化(regulariztion)來優化模型，亦可以自動執行變數篩選(Feature selection)。\n",
    "當遇到資料變數非常多時，Lasso模型是可以幫你識別並挑選出有最強（也最一致）訊號的變數。\n",
    "\n",
    "資料來源：https://www.jamleecute.com/regularized-regression-ridge-lasso-elastic/\n",
    "\n",
    "\n",
    "\n",
    "Ridge Regression的提出就是为了解决multicolinearity的，加一个L2 penalty term也是因为算起来方便。\n",
    "然而它并不能shrink parameters to 0.所以没法做variable selection。\n",
    "\n",
    "LASSO是针对Ridge Regression的没法做variable selection的问题提出来的。\n",
    "L1 penalty虽然算起来麻烦，没有解析解，但是可以把某些系数shrink到0啊。\n",
    "\n",
    "資料來源：https://www.zhihu.com/question/38121173"
   ]
  },
  {
   "cell_type": "markdown",
   "metadata": {},
   "source": [
    "2. 當自變數 (X) 存在高度共線性時，Ridge Regression 可以處理這樣的問題嗎?\n",
    "脊迴歸（Ridge Regression）是一種修改最小平方法，允許有偏估計量，進而改善多元共線性的方法。\n",
    "脊迴歸的方程式，是在原先普通最小平方法【(X’X)b=X’Y】的標準方程式中，加入一個偏化常數（biasing constant）c，c≧0，\n",
    "所得脊標準化迴歸方程式為（rXX+cI）bR = rYX。\n",
    "\n",
    "資料來源：https://dasanlin888.pixnet.net/blog/post/442485077-%E5%88%A9%E7%94%A8ncss%E7%9A%84%E8%84%8A%E8%BF%B4%E6%AD%B8%EF%BC%88ridge-regression%EF%BC%89%E8%A7%A3%E9%87%8B%E5%A4%9A%E5%85%83%E5%85%B1\n"
   ]
  }
 ],
 "metadata": {
  "kernelspec": {
   "display_name": "Python 3",
   "language": "python",
   "name": "python3"
  },
  "language_info": {
   "codemirror_mode": {
    "name": "ipython",
    "version": 3
   },
   "file_extension": ".py",
   "mimetype": "text/x-python",
   "name": "python",
   "nbconvert_exporter": "python",
   "pygments_lexer": "ipython3",
   "version": "3.7.1"
  }
 },
 "nbformat": 4,
 "nbformat_minor": 2
}
