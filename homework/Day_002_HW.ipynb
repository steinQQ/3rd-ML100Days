{
 "cells": [
  {
   "cell_type": "markdown",
   "metadata": {},
   "source": [
    "## [作業目標]\n",
    "了解機器學習適合應用的領域與範疇。"
   ]
  },
  {
   "cell_type": "markdown",
   "metadata": {},
   "source": [
    "## [作業重點]\n",
    "透過瞭解機器學習的運作方式，找出非常適用機器學習應用的領域及其原因"
   ]
  },
  {
   "cell_type": "markdown",
   "metadata": {},
   "source": [
    "## 作業\n",
    "請找出一個你認為機器學習可以發光發熱的領域並闡述原因? "
   ]
  },
  {
   "cell_type": "markdown",
   "metadata": {},
   "source": [
    "## 作業[找出一個你認為機器學習可以發光發熱的領域並闡述原因?]\n",
    "\n",
    "我認為未來無人駕駛是機器學習未來的重點發展之一\n",
    "\n",
    "無人駕駛目前在國外已經蔚為風潮，不論是車廠、網路及科技公司或新創，都全力押寶自駕車，想要盡快讓它商用。\n",
    "\n",
    "透過輸入一些開車的行為模式，裝上感測器後之後讓它在路上移動蒐集資料，並建立資料庫(大數據)，判斷各種情況要如何應對(黑盒子模式)，久而久之它就學會如何在路上開車(機器學習)。並且一段時間後，多台車的資料可以進行資料共享，如同人類的交流學習後的內容(機器學習)，最後每一台充滿著智慧(人工智慧)的車就可以完美的在路上行駛。"
   ]
  }
 ],
 "metadata": {
  "kernelspec": {
   "display_name": "Python 3",
   "language": "python",
   "name": "python3"
  },
  "language_info": {
   "codemirror_mode": {
    "name": "ipython",
    "version": 3
   },
   "file_extension": ".py",
   "mimetype": "text/x-python",
   "name": "python",
   "nbconvert_exporter": "python",
   "pygments_lexer": "ipython3",
   "version": "3.7.1"
  }
 },
 "nbformat": 4,
 "nbformat_minor": 2
}
